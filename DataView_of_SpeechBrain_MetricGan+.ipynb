{
  "nbformat": 4,
  "nbformat_minor": 0,
  "metadata": {
    "colab": {
      "provenance": [],
      "authorship_tag": "ABX9TyPgghznhJP/lWnbrmJtw/Kd",
      "include_colab_link": true
    },
    "kernelspec": {
      "name": "python3",
      "display_name": "Python 3"
    },
    "language_info": {
      "name": "python"
    },
    "widgets": {
      "application/vnd.jupyter.widget-state+json": {
        "207e8e529ac449e585bb1a62377cf8be": {
          "model_module": "@jupyter-widgets/controls",
          "model_name": "HBoxModel",
          "model_module_version": "1.5.0",
          "state": {
            "_dom_classes": [],
            "_model_module": "@jupyter-widgets/controls",
            "_model_module_version": "1.5.0",
            "_model_name": "HBoxModel",
            "_view_count": null,
            "_view_module": "@jupyter-widgets/controls",
            "_view_module_version": "1.5.0",
            "_view_name": "HBoxView",
            "box_style": "",
            "children": [
              "IPY_MODEL_e9abe3cf492540e8a5e537162e97c7d9",
              "IPY_MODEL_ace83923dff04748839cddbc5eb90686",
              "IPY_MODEL_b71e386964b9426e954b531eb9b591c0"
            ],
            "layout": "IPY_MODEL_206a5d13278546d4805df155609dcb21"
          }
        },
        "e9abe3cf492540e8a5e537162e97c7d9": {
          "model_module": "@jupyter-widgets/controls",
          "model_name": "HTMLModel",
          "model_module_version": "1.5.0",
          "state": {
            "_dom_classes": [],
            "_model_module": "@jupyter-widgets/controls",
            "_model_module_version": "1.5.0",
            "_model_name": "HTMLModel",
            "_view_count": null,
            "_view_module": "@jupyter-widgets/controls",
            "_view_module_version": "1.5.0",
            "_view_name": "HTMLView",
            "description": "",
            "description_tooltip": null,
            "layout": "IPY_MODEL_59e850589bf14cc78b79112dce2b5e29",
            "placeholder": "​",
            "style": "IPY_MODEL_d7894f9f4ed44b388482e04a70a41d5c",
            "value": "Downloading (…)ain/hyperparams.yaml: 100%"
          }
        },
        "ace83923dff04748839cddbc5eb90686": {
          "model_module": "@jupyter-widgets/controls",
          "model_name": "FloatProgressModel",
          "model_module_version": "1.5.0",
          "state": {
            "_dom_classes": [],
            "_model_module": "@jupyter-widgets/controls",
            "_model_module_version": "1.5.0",
            "_model_name": "FloatProgressModel",
            "_view_count": null,
            "_view_module": "@jupyter-widgets/controls",
            "_view_module_version": "1.5.0",
            "_view_name": "ProgressView",
            "bar_style": "success",
            "description": "",
            "description_tooltip": null,
            "layout": "IPY_MODEL_1987d5a138e04a6eac323adf5d670be8",
            "max": 1121,
            "min": 0,
            "orientation": "horizontal",
            "style": "IPY_MODEL_887873fddc7445708af137c4cbeacb77",
            "value": 1121
          }
        },
        "b71e386964b9426e954b531eb9b591c0": {
          "model_module": "@jupyter-widgets/controls",
          "model_name": "HTMLModel",
          "model_module_version": "1.5.0",
          "state": {
            "_dom_classes": [],
            "_model_module": "@jupyter-widgets/controls",
            "_model_module_version": "1.5.0",
            "_model_name": "HTMLModel",
            "_view_count": null,
            "_view_module": "@jupyter-widgets/controls",
            "_view_module_version": "1.5.0",
            "_view_name": "HTMLView",
            "description": "",
            "description_tooltip": null,
            "layout": "IPY_MODEL_250193910dde4e1db6c8c1440463baa8",
            "placeholder": "​",
            "style": "IPY_MODEL_1c8bcb5eca0c41e59eb24ef53240c438",
            "value": " 1.12k/1.12k [00:00&lt;00:00, 57.1kB/s]"
          }
        },
        "206a5d13278546d4805df155609dcb21": {
          "model_module": "@jupyter-widgets/base",
          "model_name": "LayoutModel",
          "model_module_version": "1.2.0",
          "state": {
            "_model_module": "@jupyter-widgets/base",
            "_model_module_version": "1.2.0",
            "_model_name": "LayoutModel",
            "_view_count": null,
            "_view_module": "@jupyter-widgets/base",
            "_view_module_version": "1.2.0",
            "_view_name": "LayoutView",
            "align_content": null,
            "align_items": null,
            "align_self": null,
            "border": null,
            "bottom": null,
            "display": null,
            "flex": null,
            "flex_flow": null,
            "grid_area": null,
            "grid_auto_columns": null,
            "grid_auto_flow": null,
            "grid_auto_rows": null,
            "grid_column": null,
            "grid_gap": null,
            "grid_row": null,
            "grid_template_areas": null,
            "grid_template_columns": null,
            "grid_template_rows": null,
            "height": null,
            "justify_content": null,
            "justify_items": null,
            "left": null,
            "margin": null,
            "max_height": null,
            "max_width": null,
            "min_height": null,
            "min_width": null,
            "object_fit": null,
            "object_position": null,
            "order": null,
            "overflow": null,
            "overflow_x": null,
            "overflow_y": null,
            "padding": null,
            "right": null,
            "top": null,
            "visibility": null,
            "width": null
          }
        },
        "59e850589bf14cc78b79112dce2b5e29": {
          "model_module": "@jupyter-widgets/base",
          "model_name": "LayoutModel",
          "model_module_version": "1.2.0",
          "state": {
            "_model_module": "@jupyter-widgets/base",
            "_model_module_version": "1.2.0",
            "_model_name": "LayoutModel",
            "_view_count": null,
            "_view_module": "@jupyter-widgets/base",
            "_view_module_version": "1.2.0",
            "_view_name": "LayoutView",
            "align_content": null,
            "align_items": null,
            "align_self": null,
            "border": null,
            "bottom": null,
            "display": null,
            "flex": null,
            "flex_flow": null,
            "grid_area": null,
            "grid_auto_columns": null,
            "grid_auto_flow": null,
            "grid_auto_rows": null,
            "grid_column": null,
            "grid_gap": null,
            "grid_row": null,
            "grid_template_areas": null,
            "grid_template_columns": null,
            "grid_template_rows": null,
            "height": null,
            "justify_content": null,
            "justify_items": null,
            "left": null,
            "margin": null,
            "max_height": null,
            "max_width": null,
            "min_height": null,
            "min_width": null,
            "object_fit": null,
            "object_position": null,
            "order": null,
            "overflow": null,
            "overflow_x": null,
            "overflow_y": null,
            "padding": null,
            "right": null,
            "top": null,
            "visibility": null,
            "width": null
          }
        },
        "d7894f9f4ed44b388482e04a70a41d5c": {
          "model_module": "@jupyter-widgets/controls",
          "model_name": "DescriptionStyleModel",
          "model_module_version": "1.5.0",
          "state": {
            "_model_module": "@jupyter-widgets/controls",
            "_model_module_version": "1.5.0",
            "_model_name": "DescriptionStyleModel",
            "_view_count": null,
            "_view_module": "@jupyter-widgets/base",
            "_view_module_version": "1.2.0",
            "_view_name": "StyleView",
            "description_width": ""
          }
        },
        "1987d5a138e04a6eac323adf5d670be8": {
          "model_module": "@jupyter-widgets/base",
          "model_name": "LayoutModel",
          "model_module_version": "1.2.0",
          "state": {
            "_model_module": "@jupyter-widgets/base",
            "_model_module_version": "1.2.0",
            "_model_name": "LayoutModel",
            "_view_count": null,
            "_view_module": "@jupyter-widgets/base",
            "_view_module_version": "1.2.0",
            "_view_name": "LayoutView",
            "align_content": null,
            "align_items": null,
            "align_self": null,
            "border": null,
            "bottom": null,
            "display": null,
            "flex": null,
            "flex_flow": null,
            "grid_area": null,
            "grid_auto_columns": null,
            "grid_auto_flow": null,
            "grid_auto_rows": null,
            "grid_column": null,
            "grid_gap": null,
            "grid_row": null,
            "grid_template_areas": null,
            "grid_template_columns": null,
            "grid_template_rows": null,
            "height": null,
            "justify_content": null,
            "justify_items": null,
            "left": null,
            "margin": null,
            "max_height": null,
            "max_width": null,
            "min_height": null,
            "min_width": null,
            "object_fit": null,
            "object_position": null,
            "order": null,
            "overflow": null,
            "overflow_x": null,
            "overflow_y": null,
            "padding": null,
            "right": null,
            "top": null,
            "visibility": null,
            "width": null
          }
        },
        "887873fddc7445708af137c4cbeacb77": {
          "model_module": "@jupyter-widgets/controls",
          "model_name": "ProgressStyleModel",
          "model_module_version": "1.5.0",
          "state": {
            "_model_module": "@jupyter-widgets/controls",
            "_model_module_version": "1.5.0",
            "_model_name": "ProgressStyleModel",
            "_view_count": null,
            "_view_module": "@jupyter-widgets/base",
            "_view_module_version": "1.2.0",
            "_view_name": "StyleView",
            "bar_color": null,
            "description_width": ""
          }
        },
        "250193910dde4e1db6c8c1440463baa8": {
          "model_module": "@jupyter-widgets/base",
          "model_name": "LayoutModel",
          "model_module_version": "1.2.0",
          "state": {
            "_model_module": "@jupyter-widgets/base",
            "_model_module_version": "1.2.0",
            "_model_name": "LayoutModel",
            "_view_count": null,
            "_view_module": "@jupyter-widgets/base",
            "_view_module_version": "1.2.0",
            "_view_name": "LayoutView",
            "align_content": null,
            "align_items": null,
            "align_self": null,
            "border": null,
            "bottom": null,
            "display": null,
            "flex": null,
            "flex_flow": null,
            "grid_area": null,
            "grid_auto_columns": null,
            "grid_auto_flow": null,
            "grid_auto_rows": null,
            "grid_column": null,
            "grid_gap": null,
            "grid_row": null,
            "grid_template_areas": null,
            "grid_template_columns": null,
            "grid_template_rows": null,
            "height": null,
            "justify_content": null,
            "justify_items": null,
            "left": null,
            "margin": null,
            "max_height": null,
            "max_width": null,
            "min_height": null,
            "min_width": null,
            "object_fit": null,
            "object_position": null,
            "order": null,
            "overflow": null,
            "overflow_x": null,
            "overflow_y": null,
            "padding": null,
            "right": null,
            "top": null,
            "visibility": null,
            "width": null
          }
        },
        "1c8bcb5eca0c41e59eb24ef53240c438": {
          "model_module": "@jupyter-widgets/controls",
          "model_name": "DescriptionStyleModel",
          "model_module_version": "1.5.0",
          "state": {
            "_model_module": "@jupyter-widgets/controls",
            "_model_module_version": "1.5.0",
            "_model_name": "DescriptionStyleModel",
            "_view_count": null,
            "_view_module": "@jupyter-widgets/base",
            "_view_module_version": "1.2.0",
            "_view_name": "StyleView",
            "description_width": ""
          }
        },
        "34ea4baf91284dfab9d2c0f0148b1cc8": {
          "model_module": "@jupyter-widgets/controls",
          "model_name": "HBoxModel",
          "model_module_version": "1.5.0",
          "state": {
            "_dom_classes": [],
            "_model_module": "@jupyter-widgets/controls",
            "_model_module_version": "1.5.0",
            "_model_name": "HBoxModel",
            "_view_count": null,
            "_view_module": "@jupyter-widgets/controls",
            "_view_module_version": "1.5.0",
            "_view_name": "HBoxView",
            "box_style": "",
            "children": [
              "IPY_MODEL_516ed3e92b9a4258a60c274ef99bf811",
              "IPY_MODEL_7a8914060f9f429bb5cddf2cbb06a423",
              "IPY_MODEL_1fc27057882545fab23afef33a7cc6e2"
            ],
            "layout": "IPY_MODEL_115e1708a2494eb3a5961bc2f6aec902"
          }
        },
        "516ed3e92b9a4258a60c274ef99bf811": {
          "model_module": "@jupyter-widgets/controls",
          "model_name": "HTMLModel",
          "model_module_version": "1.5.0",
          "state": {
            "_dom_classes": [],
            "_model_module": "@jupyter-widgets/controls",
            "_model_module_version": "1.5.0",
            "_model_name": "HTMLModel",
            "_view_count": null,
            "_view_module": "@jupyter-widgets/controls",
            "_view_module_version": "1.5.0",
            "_view_name": "HTMLView",
            "description": "",
            "description_tooltip": null,
            "layout": "IPY_MODEL_af4a1bc37e3e4bdd89b31f7d7ca747c9",
            "placeholder": "​",
            "style": "IPY_MODEL_a96614245dfe488d91a8c0f564892ec5",
            "value": "Downloading (…)n/enhance_model.ckpt: 100%"
          }
        },
        "7a8914060f9f429bb5cddf2cbb06a423": {
          "model_module": "@jupyter-widgets/controls",
          "model_name": "FloatProgressModel",
          "model_module_version": "1.5.0",
          "state": {
            "_dom_classes": [],
            "_model_module": "@jupyter-widgets/controls",
            "_model_module_version": "1.5.0",
            "_model_name": "FloatProgressModel",
            "_view_count": null,
            "_view_module": "@jupyter-widgets/controls",
            "_view_module_version": "1.5.0",
            "_view_name": "ProgressView",
            "bar_style": "success",
            "description": "",
            "description_tooltip": null,
            "layout": "IPY_MODEL_390a8281a61b47afb00b0d226f7b4919",
            "max": 7586021,
            "min": 0,
            "orientation": "horizontal",
            "style": "IPY_MODEL_2ad578b05b8340ba939653589253b504",
            "value": 7586021
          }
        },
        "1fc27057882545fab23afef33a7cc6e2": {
          "model_module": "@jupyter-widgets/controls",
          "model_name": "HTMLModel",
          "model_module_version": "1.5.0",
          "state": {
            "_dom_classes": [],
            "_model_module": "@jupyter-widgets/controls",
            "_model_module_version": "1.5.0",
            "_model_name": "HTMLModel",
            "_view_count": null,
            "_view_module": "@jupyter-widgets/controls",
            "_view_module_version": "1.5.0",
            "_view_name": "HTMLView",
            "description": "",
            "description_tooltip": null,
            "layout": "IPY_MODEL_8080d3eb1cce49acb256cd33833910f7",
            "placeholder": "​",
            "style": "IPY_MODEL_b3693653fb184412a2971286f459cd77",
            "value": " 7.59M/7.59M [00:00&lt;00:00, 115MB/s]"
          }
        },
        "115e1708a2494eb3a5961bc2f6aec902": {
          "model_module": "@jupyter-widgets/base",
          "model_name": "LayoutModel",
          "model_module_version": "1.2.0",
          "state": {
            "_model_module": "@jupyter-widgets/base",
            "_model_module_version": "1.2.0",
            "_model_name": "LayoutModel",
            "_view_count": null,
            "_view_module": "@jupyter-widgets/base",
            "_view_module_version": "1.2.0",
            "_view_name": "LayoutView",
            "align_content": null,
            "align_items": null,
            "align_self": null,
            "border": null,
            "bottom": null,
            "display": null,
            "flex": null,
            "flex_flow": null,
            "grid_area": null,
            "grid_auto_columns": null,
            "grid_auto_flow": null,
            "grid_auto_rows": null,
            "grid_column": null,
            "grid_gap": null,
            "grid_row": null,
            "grid_template_areas": null,
            "grid_template_columns": null,
            "grid_template_rows": null,
            "height": null,
            "justify_content": null,
            "justify_items": null,
            "left": null,
            "margin": null,
            "max_height": null,
            "max_width": null,
            "min_height": null,
            "min_width": null,
            "object_fit": null,
            "object_position": null,
            "order": null,
            "overflow": null,
            "overflow_x": null,
            "overflow_y": null,
            "padding": null,
            "right": null,
            "top": null,
            "visibility": null,
            "width": null
          }
        },
        "af4a1bc37e3e4bdd89b31f7d7ca747c9": {
          "model_module": "@jupyter-widgets/base",
          "model_name": "LayoutModel",
          "model_module_version": "1.2.0",
          "state": {
            "_model_module": "@jupyter-widgets/base",
            "_model_module_version": "1.2.0",
            "_model_name": "LayoutModel",
            "_view_count": null,
            "_view_module": "@jupyter-widgets/base",
            "_view_module_version": "1.2.0",
            "_view_name": "LayoutView",
            "align_content": null,
            "align_items": null,
            "align_self": null,
            "border": null,
            "bottom": null,
            "display": null,
            "flex": null,
            "flex_flow": null,
            "grid_area": null,
            "grid_auto_columns": null,
            "grid_auto_flow": null,
            "grid_auto_rows": null,
            "grid_column": null,
            "grid_gap": null,
            "grid_row": null,
            "grid_template_areas": null,
            "grid_template_columns": null,
            "grid_template_rows": null,
            "height": null,
            "justify_content": null,
            "justify_items": null,
            "left": null,
            "margin": null,
            "max_height": null,
            "max_width": null,
            "min_height": null,
            "min_width": null,
            "object_fit": null,
            "object_position": null,
            "order": null,
            "overflow": null,
            "overflow_x": null,
            "overflow_y": null,
            "padding": null,
            "right": null,
            "top": null,
            "visibility": null,
            "width": null
          }
        },
        "a96614245dfe488d91a8c0f564892ec5": {
          "model_module": "@jupyter-widgets/controls",
          "model_name": "DescriptionStyleModel",
          "model_module_version": "1.5.0",
          "state": {
            "_model_module": "@jupyter-widgets/controls",
            "_model_module_version": "1.5.0",
            "_model_name": "DescriptionStyleModel",
            "_view_count": null,
            "_view_module": "@jupyter-widgets/base",
            "_view_module_version": "1.2.0",
            "_view_name": "StyleView",
            "description_width": ""
          }
        },
        "390a8281a61b47afb00b0d226f7b4919": {
          "model_module": "@jupyter-widgets/base",
          "model_name": "LayoutModel",
          "model_module_version": "1.2.0",
          "state": {
            "_model_module": "@jupyter-widgets/base",
            "_model_module_version": "1.2.0",
            "_model_name": "LayoutModel",
            "_view_count": null,
            "_view_module": "@jupyter-widgets/base",
            "_view_module_version": "1.2.0",
            "_view_name": "LayoutView",
            "align_content": null,
            "align_items": null,
            "align_self": null,
            "border": null,
            "bottom": null,
            "display": null,
            "flex": null,
            "flex_flow": null,
            "grid_area": null,
            "grid_auto_columns": null,
            "grid_auto_flow": null,
            "grid_auto_rows": null,
            "grid_column": null,
            "grid_gap": null,
            "grid_row": null,
            "grid_template_areas": null,
            "grid_template_columns": null,
            "grid_template_rows": null,
            "height": null,
            "justify_content": null,
            "justify_items": null,
            "left": null,
            "margin": null,
            "max_height": null,
            "max_width": null,
            "min_height": null,
            "min_width": null,
            "object_fit": null,
            "object_position": null,
            "order": null,
            "overflow": null,
            "overflow_x": null,
            "overflow_y": null,
            "padding": null,
            "right": null,
            "top": null,
            "visibility": null,
            "width": null
          }
        },
        "2ad578b05b8340ba939653589253b504": {
          "model_module": "@jupyter-widgets/controls",
          "model_name": "ProgressStyleModel",
          "model_module_version": "1.5.0",
          "state": {
            "_model_module": "@jupyter-widgets/controls",
            "_model_module_version": "1.5.0",
            "_model_name": "ProgressStyleModel",
            "_view_count": null,
            "_view_module": "@jupyter-widgets/base",
            "_view_module_version": "1.2.0",
            "_view_name": "StyleView",
            "bar_color": null,
            "description_width": ""
          }
        },
        "8080d3eb1cce49acb256cd33833910f7": {
          "model_module": "@jupyter-widgets/base",
          "model_name": "LayoutModel",
          "model_module_version": "1.2.0",
          "state": {
            "_model_module": "@jupyter-widgets/base",
            "_model_module_version": "1.2.0",
            "_model_name": "LayoutModel",
            "_view_count": null,
            "_view_module": "@jupyter-widgets/base",
            "_view_module_version": "1.2.0",
            "_view_name": "LayoutView",
            "align_content": null,
            "align_items": null,
            "align_self": null,
            "border": null,
            "bottom": null,
            "display": null,
            "flex": null,
            "flex_flow": null,
            "grid_area": null,
            "grid_auto_columns": null,
            "grid_auto_flow": null,
            "grid_auto_rows": null,
            "grid_column": null,
            "grid_gap": null,
            "grid_row": null,
            "grid_template_areas": null,
            "grid_template_columns": null,
            "grid_template_rows": null,
            "height": null,
            "justify_content": null,
            "justify_items": null,
            "left": null,
            "margin": null,
            "max_height": null,
            "max_width": null,
            "min_height": null,
            "min_width": null,
            "object_fit": null,
            "object_position": null,
            "order": null,
            "overflow": null,
            "overflow_x": null,
            "overflow_y": null,
            "padding": null,
            "right": null,
            "top": null,
            "visibility": null,
            "width": null
          }
        },
        "b3693653fb184412a2971286f459cd77": {
          "model_module": "@jupyter-widgets/controls",
          "model_name": "DescriptionStyleModel",
          "model_module_version": "1.5.0",
          "state": {
            "_model_module": "@jupyter-widgets/controls",
            "_model_module_version": "1.5.0",
            "_model_name": "DescriptionStyleModel",
            "_view_count": null,
            "_view_module": "@jupyter-widgets/base",
            "_view_module_version": "1.2.0",
            "_view_name": "StyleView",
            "description_width": ""
          }
        },
        "d5e86fdb3b3c41bba30f380c8262a35b": {
          "model_module": "@jupyter-widgets/controls",
          "model_name": "HBoxModel",
          "model_module_version": "1.5.0",
          "state": {
            "_dom_classes": [],
            "_model_module": "@jupyter-widgets/controls",
            "_model_module_version": "1.5.0",
            "_model_name": "HBoxModel",
            "_view_count": null,
            "_view_module": "@jupyter-widgets/controls",
            "_view_module_version": "1.5.0",
            "_view_name": "HBoxView",
            "box_style": "",
            "children": [
              "IPY_MODEL_1b2a13f553e342779634dd26c9147c5a",
              "IPY_MODEL_674edcda000c4044809976ab0c8967b9",
              "IPY_MODEL_0a040be2bb45454d8becb886dfec4147"
            ],
            "layout": "IPY_MODEL_b623e5137b9744d29e61652d25a94897"
          }
        },
        "1b2a13f553e342779634dd26c9147c5a": {
          "model_module": "@jupyter-widgets/controls",
          "model_name": "HTMLModel",
          "model_module_version": "1.5.0",
          "state": {
            "_dom_classes": [],
            "_model_module": "@jupyter-widgets/controls",
            "_model_module_version": "1.5.0",
            "_model_name": "HTMLModel",
            "_view_count": null,
            "_view_module": "@jupyter-widgets/controls",
            "_view_module_version": "1.5.0",
            "_view_name": "HTMLView",
            "description": "",
            "description_tooltip": null,
            "layout": "IPY_MODEL_57feb65e12a04e0fbaf7f20d685e955e",
            "placeholder": "​",
            "style": "IPY_MODEL_2b4930d469db423485f8cde3f6f8c759",
            "value": "Downloading (…)lve/main/example.wav: 100%"
          }
        },
        "674edcda000c4044809976ab0c8967b9": {
          "model_module": "@jupyter-widgets/controls",
          "model_name": "FloatProgressModel",
          "model_module_version": "1.5.0",
          "state": {
            "_dom_classes": [],
            "_model_module": "@jupyter-widgets/controls",
            "_model_module_version": "1.5.0",
            "_model_name": "FloatProgressModel",
            "_view_count": null,
            "_view_module": "@jupyter-widgets/controls",
            "_view_module_version": "1.5.0",
            "_view_name": "ProgressView",
            "bar_style": "success",
            "description": "",
            "description_tooltip": null,
            "layout": "IPY_MODEL_9bf032fe5c2c41988cce5366f0fd217c",
            "max": 276040,
            "min": 0,
            "orientation": "horizontal",
            "style": "IPY_MODEL_a1191460db8140b3bd948ec64c7e16bf",
            "value": 276040
          }
        },
        "0a040be2bb45454d8becb886dfec4147": {
          "model_module": "@jupyter-widgets/controls",
          "model_name": "HTMLModel",
          "model_module_version": "1.5.0",
          "state": {
            "_dom_classes": [],
            "_model_module": "@jupyter-widgets/controls",
            "_model_module_version": "1.5.0",
            "_model_name": "HTMLModel",
            "_view_count": null,
            "_view_module": "@jupyter-widgets/controls",
            "_view_module_version": "1.5.0",
            "_view_name": "HTMLView",
            "description": "",
            "description_tooltip": null,
            "layout": "IPY_MODEL_d0fd139410ef4fc499c4301627122bc9",
            "placeholder": "​",
            "style": "IPY_MODEL_9852eec58bea404c8189b1abe5976227",
            "value": " 276k/276k [00:00&lt;00:00, 9.15MB/s]"
          }
        },
        "b623e5137b9744d29e61652d25a94897": {
          "model_module": "@jupyter-widgets/base",
          "model_name": "LayoutModel",
          "model_module_version": "1.2.0",
          "state": {
            "_model_module": "@jupyter-widgets/base",
            "_model_module_version": "1.2.0",
            "_model_name": "LayoutModel",
            "_view_count": null,
            "_view_module": "@jupyter-widgets/base",
            "_view_module_version": "1.2.0",
            "_view_name": "LayoutView",
            "align_content": null,
            "align_items": null,
            "align_self": null,
            "border": null,
            "bottom": null,
            "display": null,
            "flex": null,
            "flex_flow": null,
            "grid_area": null,
            "grid_auto_columns": null,
            "grid_auto_flow": null,
            "grid_auto_rows": null,
            "grid_column": null,
            "grid_gap": null,
            "grid_row": null,
            "grid_template_areas": null,
            "grid_template_columns": null,
            "grid_template_rows": null,
            "height": null,
            "justify_content": null,
            "justify_items": null,
            "left": null,
            "margin": null,
            "max_height": null,
            "max_width": null,
            "min_height": null,
            "min_width": null,
            "object_fit": null,
            "object_position": null,
            "order": null,
            "overflow": null,
            "overflow_x": null,
            "overflow_y": null,
            "padding": null,
            "right": null,
            "top": null,
            "visibility": null,
            "width": null
          }
        },
        "57feb65e12a04e0fbaf7f20d685e955e": {
          "model_module": "@jupyter-widgets/base",
          "model_name": "LayoutModel",
          "model_module_version": "1.2.0",
          "state": {
            "_model_module": "@jupyter-widgets/base",
            "_model_module_version": "1.2.0",
            "_model_name": "LayoutModel",
            "_view_count": null,
            "_view_module": "@jupyter-widgets/base",
            "_view_module_version": "1.2.0",
            "_view_name": "LayoutView",
            "align_content": null,
            "align_items": null,
            "align_self": null,
            "border": null,
            "bottom": null,
            "display": null,
            "flex": null,
            "flex_flow": null,
            "grid_area": null,
            "grid_auto_columns": null,
            "grid_auto_flow": null,
            "grid_auto_rows": null,
            "grid_column": null,
            "grid_gap": null,
            "grid_row": null,
            "grid_template_areas": null,
            "grid_template_columns": null,
            "grid_template_rows": null,
            "height": null,
            "justify_content": null,
            "justify_items": null,
            "left": null,
            "margin": null,
            "max_height": null,
            "max_width": null,
            "min_height": null,
            "min_width": null,
            "object_fit": null,
            "object_position": null,
            "order": null,
            "overflow": null,
            "overflow_x": null,
            "overflow_y": null,
            "padding": null,
            "right": null,
            "top": null,
            "visibility": null,
            "width": null
          }
        },
        "2b4930d469db423485f8cde3f6f8c759": {
          "model_module": "@jupyter-widgets/controls",
          "model_name": "DescriptionStyleModel",
          "model_module_version": "1.5.0",
          "state": {
            "_model_module": "@jupyter-widgets/controls",
            "_model_module_version": "1.5.0",
            "_model_name": "DescriptionStyleModel",
            "_view_count": null,
            "_view_module": "@jupyter-widgets/base",
            "_view_module_version": "1.2.0",
            "_view_name": "StyleView",
            "description_width": ""
          }
        },
        "9bf032fe5c2c41988cce5366f0fd217c": {
          "model_module": "@jupyter-widgets/base",
          "model_name": "LayoutModel",
          "model_module_version": "1.2.0",
          "state": {
            "_model_module": "@jupyter-widgets/base",
            "_model_module_version": "1.2.0",
            "_model_name": "LayoutModel",
            "_view_count": null,
            "_view_module": "@jupyter-widgets/base",
            "_view_module_version": "1.2.0",
            "_view_name": "LayoutView",
            "align_content": null,
            "align_items": null,
            "align_self": null,
            "border": null,
            "bottom": null,
            "display": null,
            "flex": null,
            "flex_flow": null,
            "grid_area": null,
            "grid_auto_columns": null,
            "grid_auto_flow": null,
            "grid_auto_rows": null,
            "grid_column": null,
            "grid_gap": null,
            "grid_row": null,
            "grid_template_areas": null,
            "grid_template_columns": null,
            "grid_template_rows": null,
            "height": null,
            "justify_content": null,
            "justify_items": null,
            "left": null,
            "margin": null,
            "max_height": null,
            "max_width": null,
            "min_height": null,
            "min_width": null,
            "object_fit": null,
            "object_position": null,
            "order": null,
            "overflow": null,
            "overflow_x": null,
            "overflow_y": null,
            "padding": null,
            "right": null,
            "top": null,
            "visibility": null,
            "width": null
          }
        },
        "a1191460db8140b3bd948ec64c7e16bf": {
          "model_module": "@jupyter-widgets/controls",
          "model_name": "ProgressStyleModel",
          "model_module_version": "1.5.0",
          "state": {
            "_model_module": "@jupyter-widgets/controls",
            "_model_module_version": "1.5.0",
            "_model_name": "ProgressStyleModel",
            "_view_count": null,
            "_view_module": "@jupyter-widgets/base",
            "_view_module_version": "1.2.0",
            "_view_name": "StyleView",
            "bar_color": null,
            "description_width": ""
          }
        },
        "d0fd139410ef4fc499c4301627122bc9": {
          "model_module": "@jupyter-widgets/base",
          "model_name": "LayoutModel",
          "model_module_version": "1.2.0",
          "state": {
            "_model_module": "@jupyter-widgets/base",
            "_model_module_version": "1.2.0",
            "_model_name": "LayoutModel",
            "_view_count": null,
            "_view_module": "@jupyter-widgets/base",
            "_view_module_version": "1.2.0",
            "_view_name": "LayoutView",
            "align_content": null,
            "align_items": null,
            "align_self": null,
            "border": null,
            "bottom": null,
            "display": null,
            "flex": null,
            "flex_flow": null,
            "grid_area": null,
            "grid_auto_columns": null,
            "grid_auto_flow": null,
            "grid_auto_rows": null,
            "grid_column": null,
            "grid_gap": null,
            "grid_row": null,
            "grid_template_areas": null,
            "grid_template_columns": null,
            "grid_template_rows": null,
            "height": null,
            "justify_content": null,
            "justify_items": null,
            "left": null,
            "margin": null,
            "max_height": null,
            "max_width": null,
            "min_height": null,
            "min_width": null,
            "object_fit": null,
            "object_position": null,
            "order": null,
            "overflow": null,
            "overflow_x": null,
            "overflow_y": null,
            "padding": null,
            "right": null,
            "top": null,
            "visibility": null,
            "width": null
          }
        },
        "9852eec58bea404c8189b1abe5976227": {
          "model_module": "@jupyter-widgets/controls",
          "model_name": "DescriptionStyleModel",
          "model_module_version": "1.5.0",
          "state": {
            "_model_module": "@jupyter-widgets/controls",
            "_model_module_version": "1.5.0",
            "_model_name": "DescriptionStyleModel",
            "_view_count": null,
            "_view_module": "@jupyter-widgets/base",
            "_view_module_version": "1.2.0",
            "_view_name": "StyleView",
            "description_width": ""
          }
        }
      }
    }
  },
  "cells": [
    {
      "cell_type": "markdown",
      "metadata": {
        "id": "view-in-github",
        "colab_type": "text"
      },
      "source": [
        "<a href=\"https://colab.research.google.com/github/Maheshcheegiti/FML/blob/main/DataView_of_SpeechBrain_MetricGan%2B.ipynb\" target=\"_parent\"><img src=\"https://colab.research.google.com/assets/colab-badge.svg\" alt=\"Open In Colab\"/></a>"
      ]
    },
    {
      "cell_type": "code",
      "execution_count": 6,
      "metadata": {
        "colab": {
          "base_uri": "https://localhost:8080/"
        },
        "id": "Kw6W9GqprZef",
        "outputId": "669711bb-2b4a-4391-d1b4-aa8f1bc786e9"
      },
      "outputs": [
        {
          "output_type": "stream",
          "name": "stdout",
          "text": [
            "Looking in indexes: https://pypi.org/simple, https://us-python.pkg.dev/colab-wheels/public/simple/\n",
            "Collecting speechbrain\n",
            "  Downloading speechbrain-0.5.14-py3-none-any.whl (519 kB)\n",
            "\u001b[2K     \u001b[90m━━━━━━━━━━━━━━━━━━━━━━━━━━━━━━━━━━━━━━\u001b[0m \u001b[32m519.0/519.0 kB\u001b[0m \u001b[31m30.5 MB/s\u001b[0m eta \u001b[36m0:00:00\u001b[0m\n",
            "\u001b[?25hCollecting hyperpyyaml (from speechbrain)\n",
            "  Downloading HyperPyYAML-1.2.1-py3-none-any.whl (16 kB)\n",
            "Requirement already satisfied: joblib in /usr/local/lib/python3.10/dist-packages (from speechbrain) (1.2.0)\n",
            "Requirement already satisfied: numpy in /usr/local/lib/python3.10/dist-packages (from speechbrain) (1.22.4)\n",
            "Requirement already satisfied: packaging in /usr/local/lib/python3.10/dist-packages (from speechbrain) (23.1)\n",
            "Requirement already satisfied: scipy in /usr/local/lib/python3.10/dist-packages (from speechbrain) (1.10.1)\n",
            "Collecting sentencepiece (from speechbrain)\n",
            "  Downloading sentencepiece-0.1.99-cp310-cp310-manylinux_2_17_x86_64.manylinux2014_x86_64.whl (1.3 MB)\n",
            "\u001b[2K     \u001b[90m━━━━━━━━━━━━━━━━━━━━━━━━━━━━━━━━━━━━━━━━\u001b[0m \u001b[32m1.3/1.3 MB\u001b[0m \u001b[31m66.1 MB/s\u001b[0m eta \u001b[36m0:00:00\u001b[0m\n",
            "\u001b[?25hRequirement already satisfied: torch>=1.9 in /usr/local/lib/python3.10/dist-packages (from speechbrain) (2.0.1+cu118)\n",
            "Requirement already satisfied: torchaudio in /usr/local/lib/python3.10/dist-packages (from speechbrain) (2.0.2+cu118)\n",
            "Requirement already satisfied: tqdm in /usr/local/lib/python3.10/dist-packages (from speechbrain) (4.65.0)\n",
            "Collecting huggingface-hub (from speechbrain)\n",
            "  Downloading huggingface_hub-0.15.1-py3-none-any.whl (236 kB)\n",
            "\u001b[2K     \u001b[90m━━━━━━━━━━━━━━━━━━━━━━━━━━━━━━━━━━━━━━\u001b[0m \u001b[32m236.8/236.8 kB\u001b[0m \u001b[31m27.6 MB/s\u001b[0m eta \u001b[36m0:00:00\u001b[0m\n",
            "\u001b[?25hRequirement already satisfied: filelock in /usr/local/lib/python3.10/dist-packages (from torch>=1.9->speechbrain) (3.12.0)\n",
            "Requirement already satisfied: typing-extensions in /usr/local/lib/python3.10/dist-packages (from torch>=1.9->speechbrain) (4.5.0)\n",
            "Requirement already satisfied: sympy in /usr/local/lib/python3.10/dist-packages (from torch>=1.9->speechbrain) (1.11.1)\n",
            "Requirement already satisfied: networkx in /usr/local/lib/python3.10/dist-packages (from torch>=1.9->speechbrain) (3.1)\n",
            "Requirement already satisfied: jinja2 in /usr/local/lib/python3.10/dist-packages (from torch>=1.9->speechbrain) (3.1.2)\n",
            "Requirement already satisfied: triton==2.0.0 in /usr/local/lib/python3.10/dist-packages (from torch>=1.9->speechbrain) (2.0.0)\n",
            "Requirement already satisfied: cmake in /usr/local/lib/python3.10/dist-packages (from triton==2.0.0->torch>=1.9->speechbrain) (3.25.2)\n",
            "Requirement already satisfied: lit in /usr/local/lib/python3.10/dist-packages (from triton==2.0.0->torch>=1.9->speechbrain) (16.0.5)\n",
            "Requirement already satisfied: fsspec in /usr/local/lib/python3.10/dist-packages (from huggingface-hub->speechbrain) (2023.4.0)\n",
            "Requirement already satisfied: requests in /usr/local/lib/python3.10/dist-packages (from huggingface-hub->speechbrain) (2.27.1)\n",
            "Requirement already satisfied: pyyaml>=5.1 in /usr/local/lib/python3.10/dist-packages (from huggingface-hub->speechbrain) (6.0)\n",
            "Collecting ruamel.yaml<=0.17.28,>=0.17.8 (from hyperpyyaml->speechbrain)\n",
            "  Downloading ruamel.yaml-0.17.28-py3-none-any.whl (109 kB)\n",
            "\u001b[2K     \u001b[90m━━━━━━━━━━━━━━━━━━━━━━━━━━━━━━━━━━━━━━\u001b[0m \u001b[32m109.6/109.6 kB\u001b[0m \u001b[31m11.2 MB/s\u001b[0m eta \u001b[36m0:00:00\u001b[0m\n",
            "\u001b[?25hCollecting ruamel.yaml.clib>=0.2.7 (from ruamel.yaml<=0.17.28,>=0.17.8->hyperpyyaml->speechbrain)\n",
            "  Downloading ruamel.yaml.clib-0.2.7-cp310-cp310-manylinux_2_17_x86_64.manylinux2014_x86_64.manylinux_2_24_x86_64.whl (485 kB)\n",
            "\u001b[2K     \u001b[90m━━━━━━━━━━━━━━━━━━━━━━━━━━━━━━━━━━━━━━\u001b[0m \u001b[32m485.6/485.6 kB\u001b[0m \u001b[31m30.7 MB/s\u001b[0m eta \u001b[36m0:00:00\u001b[0m\n",
            "\u001b[?25hRequirement already satisfied: MarkupSafe>=2.0 in /usr/local/lib/python3.10/dist-packages (from jinja2->torch>=1.9->speechbrain) (2.1.2)\n",
            "Requirement already satisfied: urllib3<1.27,>=1.21.1 in /usr/local/lib/python3.10/dist-packages (from requests->huggingface-hub->speechbrain) (1.26.15)\n",
            "Requirement already satisfied: certifi>=2017.4.17 in /usr/local/lib/python3.10/dist-packages (from requests->huggingface-hub->speechbrain) (2022.12.7)\n",
            "Requirement already satisfied: charset-normalizer~=2.0.0 in /usr/local/lib/python3.10/dist-packages (from requests->huggingface-hub->speechbrain) (2.0.12)\n",
            "Requirement already satisfied: idna<4,>=2.5 in /usr/local/lib/python3.10/dist-packages (from requests->huggingface-hub->speechbrain) (3.4)\n",
            "Requirement already satisfied: mpmath>=0.19 in /usr/local/lib/python3.10/dist-packages (from sympy->torch>=1.9->speechbrain) (1.3.0)\n",
            "Installing collected packages: sentencepiece, ruamel.yaml.clib, ruamel.yaml, huggingface-hub, hyperpyyaml, speechbrain\n",
            "Successfully installed huggingface-hub-0.15.1 hyperpyyaml-1.2.1 ruamel.yaml-0.17.28 ruamel.yaml.clib-0.2.7 sentencepiece-0.1.99 speechbrain-0.5.14\n"
          ]
        }
      ],
      "source": [
        "pip install speechbrain"
      ]
    },
    {
      "cell_type": "code",
      "source": [
        "pip install torch"
      ],
      "metadata": {
        "colab": {
          "base_uri": "https://localhost:8080/"
        },
        "id": "BfHBYvuOrgNj",
        "outputId": "2aaafca6-72f5-4541-e2a2-b95dd1fa7a9a"
      },
      "execution_count": 7,
      "outputs": [
        {
          "output_type": "stream",
          "name": "stdout",
          "text": [
            "Looking in indexes: https://pypi.org/simple, https://us-python.pkg.dev/colab-wheels/public/simple/\n",
            "Requirement already satisfied: torch in /usr/local/lib/python3.10/dist-packages (2.0.1+cu118)\n",
            "Requirement already satisfied: filelock in /usr/local/lib/python3.10/dist-packages (from torch) (3.12.0)\n",
            "Requirement already satisfied: typing-extensions in /usr/local/lib/python3.10/dist-packages (from torch) (4.5.0)\n",
            "Requirement already satisfied: sympy in /usr/local/lib/python3.10/dist-packages (from torch) (1.11.1)\n",
            "Requirement already satisfied: networkx in /usr/local/lib/python3.10/dist-packages (from torch) (3.1)\n",
            "Requirement already satisfied: jinja2 in /usr/local/lib/python3.10/dist-packages (from torch) (3.1.2)\n",
            "Requirement already satisfied: triton==2.0.0 in /usr/local/lib/python3.10/dist-packages (from torch) (2.0.0)\n",
            "Requirement already satisfied: cmake in /usr/local/lib/python3.10/dist-packages (from triton==2.0.0->torch) (3.25.2)\n",
            "Requirement already satisfied: lit in /usr/local/lib/python3.10/dist-packages (from triton==2.0.0->torch) (16.0.5)\n",
            "Requirement already satisfied: MarkupSafe>=2.0 in /usr/local/lib/python3.10/dist-packages (from jinja2->torch) (2.1.2)\n",
            "Requirement already satisfied: mpmath>=0.19 in /usr/local/lib/python3.10/dist-packages (from sympy->torch) (1.3.0)\n"
          ]
        }
      ]
    },
    {
      "cell_type": "code",
      "source": [
        "import os\n",
        "import torch\n",
        "import torchaudio\n",
        "import speechbrain\n",
        "from speechbrain.pretrained import SpectralMaskEnhancement\n",
        "\n",
        "# Load the SpectralMaskEnhancement model\n",
        "enhance_model = SpectralMaskEnhancement.from_hparams(\n",
        "    source=\"speechbrain/metricgan-plus-voicebank\",\n",
        "    savedir=\"pretrained_models/metricgan-plus-voicebank\",\n",
        ")\n"
      ],
      "metadata": {
        "colab": {
          "base_uri": "https://localhost:8080/",
          "height": 81,
          "referenced_widgets": [
            "207e8e529ac449e585bb1a62377cf8be",
            "e9abe3cf492540e8a5e537162e97c7d9",
            "ace83923dff04748839cddbc5eb90686",
            "b71e386964b9426e954b531eb9b591c0",
            "206a5d13278546d4805df155609dcb21",
            "59e850589bf14cc78b79112dce2b5e29",
            "d7894f9f4ed44b388482e04a70a41d5c",
            "1987d5a138e04a6eac323adf5d670be8",
            "887873fddc7445708af137c4cbeacb77",
            "250193910dde4e1db6c8c1440463baa8",
            "1c8bcb5eca0c41e59eb24ef53240c438",
            "34ea4baf91284dfab9d2c0f0148b1cc8",
            "516ed3e92b9a4258a60c274ef99bf811",
            "7a8914060f9f429bb5cddf2cbb06a423",
            "1fc27057882545fab23afef33a7cc6e2",
            "115e1708a2494eb3a5961bc2f6aec902",
            "af4a1bc37e3e4bdd89b31f7d7ca747c9",
            "a96614245dfe488d91a8c0f564892ec5",
            "390a8281a61b47afb00b0d226f7b4919",
            "2ad578b05b8340ba939653589253b504",
            "8080d3eb1cce49acb256cd33833910f7",
            "b3693653fb184412a2971286f459cd77"
          ]
        },
        "id": "oZ2eGEH7rjNe",
        "outputId": "bf92f9e1-2150-435e-efa7-fd6b6b83b8fe"
      },
      "execution_count": 3,
      "outputs": [
        {
          "output_type": "display_data",
          "data": {
            "text/plain": [
              "Downloading (…)ain/hyperparams.yaml:   0%|          | 0.00/1.12k [00:00<?, ?B/s]"
            ],
            "application/vnd.jupyter.widget-view+json": {
              "version_major": 2,
              "version_minor": 0,
              "model_id": "207e8e529ac449e585bb1a62377cf8be"
            }
          },
          "metadata": {}
        },
        {
          "output_type": "display_data",
          "data": {
            "text/plain": [
              "Downloading (…)n/enhance_model.ckpt:   0%|          | 0.00/7.59M [00:00<?, ?B/s]"
            ],
            "application/vnd.jupyter.widget-view+json": {
              "version_major": 2,
              "version_minor": 0,
              "model_id": "34ea4baf91284dfab9d2c0f0148b1cc8"
            }
          },
          "metadata": {}
        }
      ]
    },
    {
      "cell_type": "code",
      "source": [
        "# Load and add fake batch dimension\n",
        "noisy = enhance_model.load_audio(\"speechbrain/metricgan-plus-voicebank/example.wav\").unsqueeze(0)\n",
        "# Add relative length tensor\n",
        "enhanced = enhance_model.enhance_batch(noisy, lengths=torch.tensor([1.]))\n",
        "# Saving enhanced signal on disk\n",
        "torchaudio.save('enhanced.wav', enhanced.cpu(), 16000)"
      ],
      "metadata": {
        "id": "6XOUVWGbr8pZ",
        "colab": {
          "base_uri": "https://localhost:8080/",
          "height": 121,
          "referenced_widgets": [
            "d5e86fdb3b3c41bba30f380c8262a35b",
            "1b2a13f553e342779634dd26c9147c5a",
            "674edcda000c4044809976ab0c8967b9",
            "0a040be2bb45454d8becb886dfec4147",
            "b623e5137b9744d29e61652d25a94897",
            "57feb65e12a04e0fbaf7f20d685e955e",
            "2b4930d469db423485f8cde3f6f8c759",
            "9bf032fe5c2c41988cce5366f0fd217c",
            "a1191460db8140b3bd948ec64c7e16bf",
            "d0fd139410ef4fc499c4301627122bc9",
            "9852eec58bea404c8189b1abe5976227"
          ]
        },
        "outputId": "38b56831-d758-49ff-b15a-a9c62e412352"
      },
      "execution_count": 4,
      "outputs": [
        {
          "output_type": "display_data",
          "data": {
            "text/plain": [
              "Downloading (…)lve/main/example.wav:   0%|          | 0.00/276k [00:00<?, ?B/s]"
            ],
            "application/vnd.jupyter.widget-view+json": {
              "version_major": 2,
              "version_minor": 0,
              "model_id": "d5e86fdb3b3c41bba30f380c8262a35b"
            }
          },
          "metadata": {}
        },
        {
          "output_type": "stream",
          "name": "stderr",
          "text": [
            "/usr/local/lib/python3.10/dist-packages/torch/functional.py:641: UserWarning: stft with return_complex=False is deprecated. In a future pytorch release, stft will return complex tensors for all inputs, and return_complex=False will raise an error.\n",
            "Note: you can still call torch.view_as_real on the complex output to recover the old return format. (Triggered internally at ../aten/src/ATen/native/SpectralOps.cpp:862.)\n",
            "  return _VF.stft(input, n_fft, hop_length, win_length, window,  # type: ignore[attr-defined]\n"
          ]
        }
      ]
    },
    {
      "cell_type": "code",
      "source": [
        "!pip install scalene"
      ],
      "metadata": {
        "colab": {
          "base_uri": "https://localhost:8080/"
        },
        "id": "0orKEQYUvsAU",
        "outputId": "4edb6e74-2cc0-4c70-ca49-9d7b0e752837"
      },
      "execution_count": 3,
      "outputs": [
        {
          "output_type": "stream",
          "name": "stdout",
          "text": [
            "Looking in indexes: https://pypi.org/simple, https://us-python.pkg.dev/colab-wheels/public/simple/\n",
            "Collecting scalene\n",
            "  Downloading scalene-1.5.21.4-cp310-cp310-manylinux_2_24_x86_64.whl (772 kB)\n",
            "\u001b[2K     \u001b[90m━━━━━━━━━━━━━━━━━━━━━━━━━━━━━━━━━━━━━━\u001b[0m \u001b[32m772.5/772.5 kB\u001b[0m \u001b[31m33.3 MB/s\u001b[0m eta \u001b[36m0:00:00\u001b[0m\n",
            "\u001b[?25hRequirement already satisfied: wheel>=0.36.1 in /usr/local/lib/python3.10/dist-packages (from scalene) (0.40.0)\n",
            "Requirement already satisfied: rich>=10.7.0 in /usr/local/lib/python3.10/dist-packages (from scalene) (13.3.4)\n",
            "Requirement already satisfied: cloudpickle>=1.5.0 in /usr/local/lib/python3.10/dist-packages (from scalene) (2.2.1)\n",
            "Collecting pynvml<11.5,>=11.0.0 (from scalene)\n",
            "  Downloading pynvml-11.4.1-py3-none-any.whl (46 kB)\n",
            "\u001b[2K     \u001b[90m━━━━━━━━━━━━━━━━━━━━━━━━━━━━━━━━━━━━━━━━\u001b[0m \u001b[32m47.0/47.0 kB\u001b[0m \u001b[31m4.6 MB/s\u001b[0m eta \u001b[36m0:00:00\u001b[0m\n",
            "\u001b[?25hRequirement already satisfied: Jinja2>=3.0.3 in /usr/local/lib/python3.10/dist-packages (from scalene) (3.1.2)\n",
            "Requirement already satisfied: psutil>=5.9.2 in /usr/local/lib/python3.10/dist-packages (from scalene) (5.9.5)\n",
            "Requirement already satisfied: MarkupSafe>=2.0 in /usr/local/lib/python3.10/dist-packages (from Jinja2>=3.0.3->scalene) (2.1.2)\n",
            "Requirement already satisfied: markdown-it-py<3.0.0,>=2.2.0 in /usr/local/lib/python3.10/dist-packages (from rich>=10.7.0->scalene) (2.2.0)\n",
            "Requirement already satisfied: pygments<3.0.0,>=2.13.0 in /usr/local/lib/python3.10/dist-packages (from rich>=10.7.0->scalene) (2.14.0)\n",
            "Requirement already satisfied: mdurl~=0.1 in /usr/local/lib/python3.10/dist-packages (from markdown-it-py<3.0.0,>=2.2.0->rich>=10.7.0->scalene) (0.1.2)\n",
            "Installing collected packages: pynvml, scalene\n",
            "Successfully installed pynvml-11.4.1 scalene-1.5.21.4\n"
          ]
        }
      ]
    },
    {
      "cell_type": "code",
      "source": [
        "!scalene run.py"
      ],
      "metadata": {
        "colab": {
          "base_uri": "https://localhost:8080/"
        },
        "id": "mKxvxgZBvw76",
        "outputId": "58041a00-36d9-48d4-9053-cbdee9234bc9"
      },
      "execution_count": 8,
      "outputs": [
        {
          "output_type": "stream",
          "name": "stdout",
          "text": [
            "Downloading (…)ain/hyperparams.yaml: 100% 1.12k/1.12k [00:00<00:00, 3.85MB/s]\n",
            "Downloading (…)n/enhance_model.ckpt: 100% 7.59M/7.59M [00:00<00:00, 105MB/s]\n",
            "Downloading (…)lve/main/example.wav: 100% 276k/276k [00:00<00:00, 189MB/s]\n",
            "/usr/local/lib/python3.10/dist-packages/torch/functional.py:641: UserWarning: stft with return_complex=False is deprecated. In a future pytorch release, stft will return complex tensors for all inputs, and return_complex=False will raise an error.\n",
            "Note: you can still call torch.view_as_real on the complex output to recover the old return format. (Triggered internally at ../aten/src/ATen/native/SpectralOps.cpp:862.)\n",
            "  return _VF.stft(input, n_fft, hop_length, win_length, window,  # type: ignore[attr-defined]\n"
          ]
        }
      ]
    },
    {
      "cell_type": "code",
      "source": [
        "!scalene --html run.py"
      ],
      "metadata": {
        "colab": {
          "base_uri": "https://localhost:8080/"
        },
        "id": "9spMfPZ-wzTz",
        "outputId": "c70e6431-0cbc-49d7-b261-49ad9522c96d"
      },
      "execution_count": 10,
      "outputs": [
        {
          "output_type": "stream",
          "name": "stdout",
          "text": [
            "/usr/local/lib/python3.10/dist-packages/torch/functional.py:641: UserWarning: stft with return_complex=False is deprecated. In a future pytorch release, stft will return complex tensors for all inputs, and return_complex=False will raise an error.\n",
            "Note: you can still call torch.view_as_real on the complex output to recover the old return format. (Triggered internally at ../aten/src/ATen/native/SpectralOps.cpp:862.)\n",
            "  return _VF.stft(input, n_fft, hop_length, win_length, window,  # type: ignore[attr-defined]\n",
            "<!DOCTYPE html>\n",
            "<head>\n",
            "<meta charset=\"UTF-8\">\n",
            "<style>\n",
            ".r1 {color: #005f00; text-decoration-color: #005f00}\n",
            ".r2 {font-weight: bold}\n",
            ".r3 {color: #000080; text-decoration-color: #000080; font-weight: bold}\n",
            ".r4 {color: #005f00; text-decoration-color: #005f00; font-weight: bold}\n",
            ".r5 {color: #87af00; text-decoration-color: #87af00; font-weight: bold}\n",
            ".r6 {color: #7f7f7f; text-decoration-color: #7f7f7f; font-weight: bold}\n",
            ".r7 {color: #000080; text-decoration-color: #000080; font-weight: bold; font-style: italic}\n",
            ".r8 {color: #005f00; text-decoration-color: #005f00; font-weight: bold; font-style: italic}\n",
            ".r9 {color: #87af00; text-decoration-color: #87af00; font-weight: bold; font-style: italic}\n",
            ".r10 {color: #7f7f7f; text-decoration-color: #7f7f7f}\n",
            ".r11 {color: #000080; text-decoration-color: #000080}\n",
            ".r12 {color: #87af00; text-decoration-color: #87af00}\n",
            ".r13 {color: #008000; text-decoration-color: #008000; background-color: #f8f8f8; font-weight: bold}\n",
            ".r14 {color: #000000; text-decoration-color: #000000; background-color: #f8f8f8}\n",
            ".r15 {color: #0000ff; text-decoration-color: #0000ff; background-color: #f8f8f8; font-weight: bold}\n",
            ".r16 {background-color: #f8f8f8}\n",
            ".r17 {color: #800000; text-decoration-color: #800000; font-weight: bold}\n",
            ".r18 {color: #3d7b7b; text-decoration-color: #3d7b7b; background-color: #f8f8f8; font-style: italic}\n",
            ".r19 {color: #666666; text-decoration-color: #666666; background-color: #f8f8f8}\n",
            ".r20 {color: #ba2121; text-decoration-color: #ba2121; background-color: #f8f8f8}\n",
            ".r21 {color: #000080; text-decoration-color: #000080; text-decoration: underline}\n",
            "body {\n",
            "    color: #000000;\n",
            "    background-color: #ffffff;\n",
            "}\n",
            "</style>\n",
            "</head>\n",
            "<html>\n",
            "<body>\n",
            "    <pre style=\"font-family:Menlo,'DejaVu Sans Mono',consolas,'Courier New',monospace\"><code>                           Memory usage: <span class=\"r1\">▁▁▁▂▂▂▃▃▄▄▄▅▅▅▆▆▆▆▇▇▇████</span> (max: 209.611 MB, growth rate: 100%)                            \n",
            "                                       run.py: % of time = 100.00% (27.348s) out of 27.348s.                                       \n",
            "       ╷       ╷       ╷       ╷        ╷       ╷               ╷       ╷                                                          \n",
            " <span class=\"r2\">      </span>│<span class=\"r3\">Time</span><span class=\"r2\">   </span>│<span class=\"r3\">––––––</span><span class=\"r2\"> </span>│<span class=\"r3\">––––––</span><span class=\"r2\"> </span>│<span class=\"r4\">Memory</span><span class=\"r2\">  </span>│<span class=\"r4\">––––––</span><span class=\"r2\"> </span>│<span class=\"r4\">–––––––––––</span><span class=\"r2\">    </span>│<span class=\"r5\">Copy</span><span class=\"r2\">   </span>│<span class=\"r2\">                                                         </span> \n",
            " <span class=\"r2\"> </span><span class=\"r6\">Line</span><span class=\"r2\"> </span>│<span class=\"r7\">Python</span><span class=\"r2\"> </span>│<span class=\"r7\">native</span><span class=\"r2\"> </span>│<span class=\"r7\">system</span><span class=\"r2\"> </span>│<span class=\"r8\">Python</span><span class=\"r2\">  </span>│<span class=\"r8\">peak</span><span class=\"r2\">   </span>│<span class=\"r8\">timeline</span><span class=\"r4\">/%</span><span class=\"r2\">     </span>│<span class=\"r9\">(MB/s)</span><span class=\"r2\"> </span>│<span class=\"r2\">run.py                                                   </span> \n",
            "╺━━━━━━┿━━━━━━━┿━━━━━━━┿━━━━━━━┿━━━━━━━━┿━━━━━━━┿━━━━━━━━━━━━━━━┿━━━━━━━┿━━━━━━━━━━━━━━━━━━━━━━━━━━━━━━━━━━━━━━━━━━━━━━━━━━━━━━━━━╸\n",
            " <span class=\"r10\">    1 </span>│<span class=\"r11\">       </span>│<span class=\"r11\">       </span>│<span class=\"r11\">       </span>│<span class=\"r1\">        </span>│<span class=\"r1\">       </span>│<span class=\"r1\">               </span>│<span class=\"r12\">       </span>│<span class=\"r13\">import</span><span class=\"r14\"> </span><span class=\"r15\">os</span><span class=\"r16\">                                               </span>  \n",
            " <span class=\"r10\">    2 </span>│<span class=\"r17\">   27%</span><span class=\"r11\"> </span>│<span class=\"r17\">   29%</span><span class=\"r11\"> </span>│<span class=\"r11\">   1%  </span>│<span class=\"r1\">  73%   </span>│<span class=\"r1\">  123M </span>│<span class=\"r17\">▁▁▁▁▂▂▃▃▃  59%</span><span class=\"r1\"> </span>│<span class=\"r12\">   122 </span>│<span class=\"r13\">import</span><span class=\"r14\"> </span><span class=\"r15\">torch</span><span class=\"r16\">                                            </span>  \n",
            " <span class=\"r10\">    3 </span>│<span class=\"r11\">       </span>│<span class=\"r11\">       </span>│<span class=\"r11\">       </span>│<span class=\"r1\">  97%   </span>│<span class=\"r1\">   10M </span>│<span class=\"r1\">▁   5%         </span>│<span class=\"r12\">     8 </span>│<span class=\"r13\">import</span><span class=\"r14\"> </span><span class=\"r15\">torchaudio</span><span class=\"r16\">                                       </span>  \n",
            " <span class=\"r10\">    4 </span>│<span class=\"r17\">   17%</span><span class=\"r11\"> </span>│<span class=\"r17\">   18%</span><span class=\"r11\"> </span>│<span class=\"r11\">       </span>│<span class=\"r1\"> 100%   </span>│<span class=\"r1\">   41M </span>│<span class=\"r17\">▂▂▂▂  19%</span><span class=\"r1\">      </span>│<span class=\"r12\">    68 </span>│<span class=\"r13\">import</span><span class=\"r14\"> </span><span class=\"r15\">speechbrain</span><span class=\"r16\">                                      </span>  \n",
            " <span class=\"r10\">    5 </span>│<span class=\"r11\">       </span>│<span class=\"r11\">       </span>│<span class=\"r11\">       </span>│<span class=\"r1\">        </span>│<span class=\"r1\">       </span>│<span class=\"r1\">               </span>│<span class=\"r12\">       </span>│<span class=\"r13\">from</span><span class=\"r14\"> </span><span class=\"r15\">speechbrain.pretrained</span><span class=\"r14\"> </span><span class=\"r13\">import</span><span class=\"r14\"> SpectralMaskEnhanceme</span>  \n",
            " <span class=\"r10\">    6 </span>│<span class=\"r11\">       </span>│<span class=\"r11\">       </span>│<span class=\"r11\">       </span>│<span class=\"r1\">        </span>│<span class=\"r1\">       </span>│<span class=\"r1\">               </span>│<span class=\"r12\">       </span>│<span class=\"r16\">                                                        </span>  \n",
            " <span class=\"r10\">    7 </span>│<span class=\"r11\">       </span>│<span class=\"r11\">       </span>│<span class=\"r11\">       </span>│<span class=\"r1\">        </span>│<span class=\"r1\">       </span>│<span class=\"r1\">               </span>│<span class=\"r12\">       </span>│<span class=\"r18\"># Load the SpectralMaskEnhancement model</span><span class=\"r16\">                </span>  \n",
            " <span class=\"r10\">    8 </span>│<span class=\"r11\">       </span>│<span class=\"r11\">       </span>│<span class=\"r11\">   5%  </span>│<span class=\"r1\">  57%   </span>│<span class=\"r1\">   26M </span>│<span class=\"r1\">▁▁  12%        </span>│<span class=\"r12\">     7 </span>│<span class=\"r14\">enhance_model </span><span class=\"r19\">=</span><span class=\"r14\"> SpectralMaskEnhancement</span><span class=\"r19\">.</span><span class=\"r14\">from_hparams(</span><span class=\"r16\">   </span>  \n",
            " <span class=\"r10\">    9 </span>│<span class=\"r11\">       </span>│<span class=\"r11\">       </span>│<span class=\"r11\">       </span>│<span class=\"r1\">        </span>│<span class=\"r1\">       </span>│<span class=\"r1\">               </span>│<span class=\"r12\">       </span>│<span class=\"r14\">    source</span><span class=\"r19\">=</span><span class=\"r20\">&quot;speechbrain/metricgan-plus-voicebank&quot;</span><span class=\"r14\">,</span><span class=\"r16\">      </span>  \n",
            " <span class=\"r10\">   10 </span>│<span class=\"r11\">       </span>│<span class=\"r11\">       </span>│<span class=\"r11\">       </span>│<span class=\"r1\">        </span>│<span class=\"r1\">       </span>│<span class=\"r1\">               </span>│<span class=\"r12\">       </span>│<span class=\"r14\">    savedir</span><span class=\"r19\">=</span><span class=\"r20\">&quot;pretrained_models/metricgan-plus-voicebank&quot;</span>  \n",
            " <span class=\"r10\">   11 </span>│<span class=\"r11\">       </span>│<span class=\"r11\">       </span>│<span class=\"r11\">       </span>│<span class=\"r1\">        </span>│<span class=\"r1\">       </span>│<span class=\"r1\">               </span>│<span class=\"r12\">       </span>│<span class=\"r14\">)</span><span class=\"r16\">                                                       </span>  \n",
            " <span class=\"r10\">   12 </span>│<span class=\"r11\">       </span>│<span class=\"r11\">       </span>│<span class=\"r11\">       </span>│<span class=\"r1\">        </span>│<span class=\"r1\">       </span>│<span class=\"r1\">               </span>│<span class=\"r12\">       </span>│<span class=\"r16\">                                                        </span>  \n",
            " <span class=\"r10\">   13 </span>│<span class=\"r11\">       </span>│<span class=\"r11\">       </span>│<span class=\"r11\">       </span>│<span class=\"r1\">        </span>│<span class=\"r1\">       </span>│<span class=\"r1\">               </span>│<span class=\"r12\">       </span>│<span class=\"r18\"># Load and add fake batch dimension</span><span class=\"r16\">                     </span>  \n",
            " <span class=\"r10\">   14 </span>│<span class=\"r11\">       </span>│<span class=\"r11\">       </span>│<span class=\"r11\">       </span>│<span class=\"r1\">        </span>│<span class=\"r1\">       </span>│<span class=\"r1\">               </span>│<span class=\"r12\">       </span>│<span class=\"r14\">noisy </span><span class=\"r19\">=</span><span class=\"r14\"> enhance_model</span><span class=\"r19\">.</span><span class=\"r14\">load_audio(</span><span class=\"r20\">&quot;speechbrain/metricgan-</span>  \n",
            " <span class=\"r10\">   15 </span>│<span class=\"r11\">       </span>│<span class=\"r11\">       </span>│<span class=\"r11\">       </span>│<span class=\"r1\">        </span>│<span class=\"r1\">       </span>│<span class=\"r1\">               </span>│<span class=\"r12\">       </span>│<span class=\"r18\"># Add relative length tensor</span><span class=\"r16\">                            </span>  \n",
            " <span class=\"r10\">   16 </span>│<span class=\"r11\">       </span>│<span class=\"r11\">       </span>│<span class=\"r11\">       </span>│<span class=\"r1\">   9%   </span>│<span class=\"r1\">   10M </span>│<span class=\"r1\">▁   5%         </span>│<span class=\"r12\">       </span>│<span class=\"r14\">enhanced </span><span class=\"r19\">=</span><span class=\"r14\"> enhance_model</span><span class=\"r19\">.</span><span class=\"r14\">enhance_batch(noisy, lengths</span><span class=\"r19\">=</span><span class=\"r14\">to</span>  \n",
            " <span class=\"r10\">   17 </span>│<span class=\"r11\">       </span>│<span class=\"r11\">       </span>│<span class=\"r11\">       </span>│<span class=\"r1\">        </span>│<span class=\"r1\">       </span>│<span class=\"r1\">               </span>│<span class=\"r12\">       </span>│<span class=\"r18\"># Saving enhanced signal on disk</span><span class=\"r16\">                        </span>  \n",
            " <span class=\"r10\">   18 </span>│<span class=\"r11\">       </span>│<span class=\"r11\">       </span>│<span class=\"r11\">       </span>│<span class=\"r1\">        </span>│<span class=\"r1\">       </span>│<span class=\"r1\">               </span>│<span class=\"r12\">       </span>│<span class=\"r14\">torchaudio</span><span class=\"r19\">.</span><span class=\"r14\">save(</span><span class=\"r20\">&#x27;enhanced.wav&#x27;</span><span class=\"r14\">, enhanced</span><span class=\"r19\">.</span><span class=\"r14\">cpu(), </span><span class=\"r19\">16000</span><span class=\"r14\">)</span><span class=\"r16\">  </span>  \n",
            "       ╵       ╵       ╵       ╵        ╵       ╵               ╵       ╵                                                          \n",
            "Top AVERAGE memory consumption, by line:\n",
            "<span class=\"r1\">(1)     2:   123 MB</span>                                                                                                                 \n",
            "<span class=\"r1\">(2)     4:    41 MB</span>                                                                                                                 \n",
            "<span class=\"r1\">(3)     8:    26 MB</span>                                                                                                                 \n",
            "<span class=\"r1\">(4)     3:    10 MB</span>                                                                                                                 \n",
            "Top PEAK memory consumption, by line:\n",
            "<span class=\"r1\">(1)     2:   123 MB</span>                                                                                                                 \n",
            "<span class=\"r1\">(2)     4:    41 MB</span>                                                                                                                 \n",
            "<span class=\"r1\">(3)     8:    26 MB</span>                                                                                                                 \n",
            "<span class=\"r1\">(4)    16:    10 MB</span>                                                                                                                 \n",
            "<span class=\"r1\">(5)     3:    10 MB</span>                                                                                                                 \n",
            "generated by the <a class=\"r21\" href=\"https://github.com/plasma-umass/scalene\">scalene</a> profiler                                                                                                   \n",
            "</code></pre>\n",
            "</body>\n",
            "</html>\n"
          ]
        }
      ]
    },
    {
      "cell_type": "code",
      "source": [
        "!scalene --html --outfile=profile.html run.py"
      ],
      "metadata": {
        "id": "RMqQeU8nF9GY",
        "colab": {
          "base_uri": "https://localhost:8080/"
        },
        "outputId": "90d7c245-5b10-42bf-a620-b2827c9cc0c3"
      },
      "execution_count": 11,
      "outputs": [
        {
          "output_type": "stream",
          "name": "stdout",
          "text": [
            "/usr/local/lib/python3.10/dist-packages/torch/functional.py:641: UserWarning: stft with return_complex=False is deprecated. In a future pytorch release, stft will return complex tensors for all inputs, and return_complex=False will raise an error.\n",
            "Note: you can still call torch.view_as_real on the complex output to recover the old return format. (Triggered internally at ../aten/src/ATen/native/SpectralOps.cpp:862.)\n",
            "  return _VF.stft(input, n_fft, hop_length, win_length, window,  # type: ignore[attr-defined]\n"
          ]
        }
      ]
    }
  ]
}