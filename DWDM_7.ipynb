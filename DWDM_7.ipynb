{
  "nbformat": 4,
  "nbformat_minor": 0,
  "metadata": {
    "colab": {
      "provenance": [],
      "include_colab_link": true
    },
    "kernelspec": {
      "name": "python3",
      "display_name": "Python 3"
    },
    "language_info": {
      "name": "python"
    }
  },
  "cells": [
    {
      "cell_type": "markdown",
      "metadata": {
        "id": "view-in-github",
        "colab_type": "text"
      },
      "source": [
        "<a href=\"https://colab.research.google.com/github/Maheshcheegiti/FML/blob/main/DWDM_7.ipynb\" target=\"_parent\"><img src=\"https://colab.research.google.com/assets/colab-badge.svg\" alt=\"Open In Colab\"/></a>"
      ]
    },
    {
      "cell_type": "code",
      "execution_count": null,
      "metadata": {
        "colab": {
          "base_uri": "https://localhost:8080/"
        },
        "id": "bLW8WF9QXAa1",
        "outputId": "2e5cba62-7f4a-421a-9f0c-2b88c367eb46"
      },
      "outputs": [
        {
          "output_type": "stream",
          "name": "stdout",
          "text": [
            "Mounted at /content/drive\n"
          ]
        }
      ],
      "source": [
        "# connecting to google drive for datasets\n",
        "from google.colab import drive\n",
        "drive.mount('/content/drive')"
      ]
    },
    {
      "cell_type": "markdown",
      "source": [
        "###Experiment on Generating frequent item set using Apriori algorithm in python and also generate association rules for any market basket data.\n",
        "The Apriori algorithm is used for finding frequent patterns and associations among a set of items in a dataset. It works by generating candidate item sets of increasing size and counting their frequency in the dataset. Frequent item sets are used to generate association rules based on a minimum threshold of confidence. It is commonly used in market basket analysis to identify frequently purchased items and make recommendations to customers.\n",
        "In Apriori algorithm, a frequent itemset is defined as a set of items that occur together in a transaction or dataset with a minimum threshold of support. The support of an itemset is the number of transactions that contain that itemset divided by the total number of transactions\n",
        "The Apriori algorithm is widely used in market basket analysis, where it can be used to identify patterns of items that are frequently purchased together, and to generate recommendations for products or services that are likely to be of interest to customers.\n",
        "\n",
        "\n",
        ">1.\tFirst, we import the necessary Python libraries, including Pandas for reading and manipulating the input data, and the apriori and association_rules functions from the mlxtend.frequent_patterns module, which implement the Apriori algorithm and association rule mining, respectively.\n"
      ],
      "metadata": {
        "id": "fNnT3qDxXTSc"
      }
    },
    {
      "cell_type": "code",
      "source": [
        "import pandas as pd\n",
        "from mlxtend.frequent_patterns import apriori\n",
        "from mlxtend.frequent_patterns import association_rules"
      ],
      "metadata": {
        "id": "97oRzj0tZExE"
      },
      "execution_count": null,
      "outputs": []
    },
    {
      "cell_type": "code",
      "source": [
        "data=pd.read_csv('/content/drive/MyDrive/datasets-master/basket_analysis.csv')\n",
        "data.drop(data.columns[0],axis=1,inplace=True)"
      ],
      "metadata": {
        "id": "KJNCRRNkZhBZ",
        "colab": {
          "base_uri": "https://localhost:8080/"
        },
        "outputId": "8e489ae4-d29d-4bce-dadb-6e4e70cea814"
      },
      "execution_count": null,
      "outputs": [
        {
          "output_type": "stream",
          "name": "stderr",
          "text": [
            "/usr/local/lib/python3.10/dist-packages/ipykernel/ipkernel.py:283: DeprecationWarning: `should_run_async` will not call `transform_cell` automatically in the future. Please pass the result to `transformed_cell` argument and any exception that happen during thetransform in `preprocessing_exc_tuple` in IPython 7.17 and above.\n",
            "  and should_run_async(code)\n"
          ]
        }
      ]
    },
    {
      "cell_type": "markdown",
      "source": [
        ">3.\tWe convert the data into a one-hot encoded format using the pd.get_dummies function. This converts each unique item in the data into a separate binary feature, where a 1 in a particular feature column indicates that the item is present in that transaction, and a 0 indicates that it is not."
      ],
      "metadata": {
        "id": "Xr79ScCRYjA0"
      }
    },
    {
      "cell_type": "code",
      "source": [
        "one_hot_encoded = pd.get_dummies(data)"
      ],
      "metadata": {
        "id": "lnp8jgd9gObM",
        "colab": {
          "base_uri": "https://localhost:8080/"
        },
        "outputId": "02ee364a-cb08-4401-f774-4aaf544d1a30"
      },
      "execution_count": null,
      "outputs": [
        {
          "output_type": "stream",
          "name": "stderr",
          "text": [
            "/usr/local/lib/python3.10/dist-packages/ipykernel/ipkernel.py:283: DeprecationWarning: `should_run_async` will not call `transform_cell` automatically in the future. Please pass the result to `transformed_cell` argument and any exception that happen during thetransform in `preprocessing_exc_tuple` in IPython 7.17 and above.\n",
            "  and should_run_async(code)\n"
          ]
        }
      ]
    },
    {
      "cell_type": "markdown",
      "source": [
        ">4.\tWe then apply the Apriori algorithm using the apriori function, with a minimum support of 0.1. This means that we are only interested in item sets that occur in at least 10% of the transactions. The use_colnames=True argument tells the function to use the original item names instead of the encoded feature names in the output.\n"
      ],
      "metadata": {
        "id": "6QJ3uJucYnT0"
      }
    },
    {
      "cell_type": "code",
      "source": [
        "frequent_itemsets = apriori(one_hot_encoded ,\n",
        "                            min_support = 0.1,\n",
        "                            use_colnames = True)"
      ],
      "metadata": {
        "id": "H9I5-RmFgiIq",
        "colab": {
          "base_uri": "https://localhost:8080/"
        },
        "outputId": "2aa2b785-262d-4430-fefe-cf3b2fb6bd58"
      },
      "execution_count": null,
      "outputs": [
        {
          "output_type": "stream",
          "name": "stderr",
          "text": [
            "/usr/local/lib/python3.10/dist-packages/ipykernel/ipkernel.py:283: DeprecationWarning: `should_run_async` will not call `transform_cell` automatically in the future. Please pass the result to `transformed_cell` argument and any exception that happen during thetransform in `preprocessing_exc_tuple` in IPython 7.17 and above.\n",
            "  and should_run_async(code)\n"
          ]
        }
      ]
    },
    {
      "cell_type": "markdown",
      "source": [
        "\n",
        "\n",
        ">5.\tFinally, we generate association rules from the frequent item sets using the association_rules function. We set the metric parameter to \"lift\", which measures the strength of association between items in terms of how much more often they occur together than would be expected by chance. We also set a minimum threshold of 1 for thelift metric, meaning that we only want to see rules that have a lift value of at least 1 (i.e., they occur more frequently together than would be expected by chance). The resulting association rules are stored in the association_rules variable.\n"
      ],
      "metadata": {
        "id": "up5tst7dYpXl"
      }
    },
    {
      "cell_type": "code",
      "source": [
        "association_rules_result = association_rules(frequent_itemsets, metric=\"lift\", min_threshold=1)"
      ],
      "metadata": {
        "id": "T7CzaNFBgveM",
        "colab": {
          "base_uri": "https://localhost:8080/"
        },
        "outputId": "5d961011-f3fb-490b-b63c-d455d761dd2e"
      },
      "execution_count": null,
      "outputs": [
        {
          "output_type": "stream",
          "name": "stderr",
          "text": [
            "/usr/local/lib/python3.10/dist-packages/ipykernel/ipkernel.py:283: DeprecationWarning: `should_run_async` will not call `transform_cell` automatically in the future. Please pass the result to `transformed_cell` argument and any exception that happen during thetransform in `preprocessing_exc_tuple` in IPython 7.17 and above.\n",
            "  and should_run_async(code)\n"
          ]
        }
      ]
    },
    {
      "cell_type": "markdown",
      "source": [
        ">6.\tFinally, we print out the frequent item sets and association rules using the print function."
      ],
      "metadata": {
        "id": "bYT2oygfYrcT"
      }
    },
    {
      "cell_type": "code",
      "source": [
        "print(\"Frequent Item Sets:\")\n",
        "print(frequent_itemsets)\n",
        "\n",
        "print(\"\\nAssociation Rules:\")\n",
        "print(association_rules_result)"
      ],
      "metadata": {
        "colab": {
          "base_uri": "https://localhost:8080/"
        },
        "id": "oP9VL0bQoyxB",
        "outputId": "a44d064a-1c9f-4f58-e1cb-f947bf238b28"
      },
      "execution_count": null,
      "outputs": [
        {
          "output_type": "stream",
          "name": "stdout",
          "text": [
            "Frequent Item Sets:\n",
            "      support                        itemsets\n",
            "0    0.383383                         (Apple)\n",
            "1    0.384384                         (Bread)\n",
            "2    0.420420                        (Butter)\n",
            "3    0.404404                        (Cheese)\n",
            "4    0.407407                          (Corn)\n",
            "..        ...                             ...\n",
            "164  0.101101  (Nutmeg, chocolate, Ice cream)\n",
            "165  0.101101   (Onion, chocolate, Ice cream)\n",
            "166  0.100100    (Nutmeg, Kidney Beans, Milk)\n",
            "167  0.101101  (Nutmeg, Kidney Beans, Yogurt)\n",
            "168  0.104104       (chocolate, Yogurt, Milk)\n",
            "\n",
            "[169 rows x 2 columns]\n",
            "\n",
            "Association Rules:\n",
            "           antecedents          consequents  antecedent support  \\\n",
            "0              (Bread)              (Apple)            0.384384   \n",
            "1              (Apple)              (Bread)            0.383383   \n",
            "2             (Butter)              (Apple)            0.420420   \n",
            "3              (Apple)             (Butter)            0.383383   \n",
            "4             (Cheese)              (Apple)            0.404404   \n",
            "..                 ...                  ...                 ...   \n",
            "431  (chocolate, Milk)             (Yogurt)            0.211211   \n",
            "432     (Yogurt, Milk)          (chocolate)            0.190190   \n",
            "433        (chocolate)       (Yogurt, Milk)            0.421421   \n",
            "434           (Yogurt)    (chocolate, Milk)            0.420420   \n",
            "435             (Milk)  (Yogurt, chocolate)            0.405405   \n",
            "\n",
            "     consequent support   support  confidence      lift  leverage  conviction  \\\n",
            "0              0.383383  0.154154    0.401042  1.046059  0.006788    1.029482   \n",
            "1              0.384384  0.154154    0.402089  1.046059  0.006788    1.029610   \n",
            "2              0.383383  0.188188    0.447619  1.167549  0.027006    1.116289   \n",
            "3              0.420420  0.188188    0.490862  1.167549  0.027006    1.138354   \n",
            "4              0.383383  0.162162    0.400990  1.045925  0.007120    1.029393   \n",
            "..                  ...       ...         ...       ...       ...         ...   \n",
            "431            0.420420  0.104104    0.492891  1.172376  0.015307    1.142909   \n",
            "432            0.421421  0.104104    0.547368  1.298862  0.023954    1.278255   \n",
            "433            0.190190  0.104104    0.247031  1.298862  0.023954    1.075489   \n",
            "434            0.211211  0.104104    0.247619  1.172376  0.015307    1.048390   \n",
            "435            0.198198  0.104104    0.256790  1.295623  0.023753    1.078836   \n",
            "\n",
            "     zhangs_metric  \n",
            "0         0.071524  \n",
            "1         0.071407  \n",
            "2         0.247602  \n",
            "3         0.232730  \n",
            "4         0.073721  \n",
            "..             ...  \n",
            "431       0.186402  \n",
            "432       0.284135  \n",
            "433       0.397691  \n",
            "434       0.253687  \n",
            "435       0.383741  \n",
            "\n",
            "[436 rows x 10 columns]\n"
          ]
        },
        {
          "output_type": "stream",
          "name": "stderr",
          "text": [
            "/usr/local/lib/python3.10/dist-packages/ipykernel/ipkernel.py:283: DeprecationWarning: `should_run_async` will not call `transform_cell` automatically in the future. Please pass the result to `transformed_cell` argument and any exception that happen during thetransform in `preprocessing_exc_tuple` in IPython 7.17 and above.\n",
            "  and should_run_async(code)\n"
          ]
        }
      ]
    },
    {
      "cell_type": "markdown",
      "source": [
        "### output\n",
        ">   ```\n",
        "      support                        itemsets\n",
        "0    0.383383                         (Apple)\n",
        "1    0.384384                         (Bread)\n",
        "2    0.420420                        (Butter)\n",
        "3    0.404404                        (Cheese)\n",
        "4    0.407407                          (Corn)\n",
        "..        ...                             ...\n",
        "```"
      ],
      "metadata": {
        "id": "pKzcni8GpgyZ"
      }
    }
  ]
}