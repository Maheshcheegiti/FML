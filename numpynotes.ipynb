{
  "nbformat": 4,
  "nbformat_minor": 0,
  "metadata": {
    "colab": {
      "provenance": [],
      "authorship_tag": "ABX9TyOZziDTvYsbjQ3Kwq8/LV3I",
      "include_colab_link": true
    },
    "kernelspec": {
      "name": "python3",
      "display_name": "Python 3"
    },
    "language_info": {
      "name": "python"
    }
  },
  "cells": [
    {
      "cell_type": "markdown",
      "metadata": {
        "id": "view-in-github",
        "colab_type": "text"
      },
      "source": [
        "<a href=\"https://colab.research.google.com/github/Maheshcheegiti/FML/blob/main/numpynotes.ipynb\" target=\"_parent\"><img src=\"https://colab.research.google.com/assets/colab-badge.svg\" alt=\"Open In Colab\"/></a>"
      ]
    },
    {
      "cell_type": "code",
      "execution_count": 1,
      "metadata": {
        "colab": {
          "base_uri": "https://localhost:8080/"
        },
        "id": "30Vw8nX91QMq",
        "outputId": "73790332-74ce-4395-c3f1-85ec79df2b45"
      },
      "outputs": [
        {
          "output_type": "stream",
          "name": "stdout",
          "text": [
            "Looking in indexes: https://pypi.org/simple, https://us-python.pkg.dev/colab-wheels/public/simple/\n",
            "Requirement already satisfied: numpy in /usr/local/lib/python3.9/dist-packages (1.22.4)\n"
          ]
        }
      ],
      "source": [
        "pip install numpy"
      ]
    },
    {
      "cell_type": "code",
      "source": [
        "#importing numpy\n",
        "import numpy as np\n",
        "#checking version\n",
        "np.__version__"
      ],
      "metadata": {
        "colab": {
          "base_uri": "https://localhost:8080/",
          "height": 35
        },
        "id": "JQCw38ML1eJj",
        "outputId": "3f17cb89-ae60-41e2-a83b-89b1fe348e48"
      },
      "execution_count": 2,
      "outputs": [
        {
          "output_type": "execute_result",
          "data": {
            "text/plain": [
              "'1.22.4'"
            ],
            "application/vnd.google.colaboratory.intrinsic+json": {
              "type": "string"
            }
          },
          "metadata": {},
          "execution_count": 2
        }
      ]
    },
    {
      "cell_type": "code",
      "source": [
        "#creating array\n",
        "arr = np.array(10)\n",
        "print(arr)\n",
        "print(type(arr))\n",
        "arr = np.array((1,2,3,4,5))\n",
        "print(arr)"
      ],
      "metadata": {
        "colab": {
          "base_uri": "https://localhost:8080/"
        },
        "id": "DtqYo-Ed1rEX",
        "outputId": "9c65f7dc-1082-4722-c5d8-dd8ac3fd4cc3"
      },
      "execution_count": 3,
      "outputs": [
        {
          "output_type": "stream",
          "name": "stdout",
          "text": [
            "10\n",
            "<class 'numpy.ndarray'>\n",
            "[1 2 3 4 5]\n"
          ]
        }
      ]
    },
    {
      "cell_type": "code",
      "source": [
        "#0 dimensional arrays\n",
        "arr = np.array(40)\n",
        "print(arr.shape)\n",
        "print(arr.ndim)\n",
        "print(arr)"
      ],
      "metadata": {
        "colab": {
          "base_uri": "https://localhost:8080/"
        },
        "id": "rerd84ob36Yv",
        "outputId": "fece7811-9d16-4cbc-dabf-776a1108a12b"
      },
      "execution_count": 4,
      "outputs": [
        {
          "output_type": "stream",
          "name": "stdout",
          "text": [
            "()\n",
            "0\n",
            "40\n"
          ]
        }
      ]
    },
    {
      "cell_type": "code",
      "source": [
        "#1 dimensional arrays\n",
        "arr = np.array([1,2,3,4,5])\n",
        "print(arr.shape)\n",
        "print(arr.ndim)\n",
        "print(arr)"
      ],
      "metadata": {
        "colab": {
          "base_uri": "https://localhost:8080/"
        },
        "id": "yFH32aaE4DfA",
        "outputId": "519985e2-abd3-4872-9b8e-af424996ced3"
      },
      "execution_count": 5,
      "outputs": [
        {
          "output_type": "stream",
          "name": "stdout",
          "text": [
            "(5,)\n",
            "1\n",
            "[1 2 3 4 5]\n"
          ]
        }
      ]
    },
    {
      "cell_type": "code",
      "source": [
        "#2-d arrays\n",
        "arr = np.array([[1,2,3],[4,5,6]])\n",
        "print(arr.shape)\n",
        "print(arr.ndim)\n",
        "print(arr)"
      ],
      "metadata": {
        "colab": {
          "base_uri": "https://localhost:8080/"
        },
        "id": "yQQj6CQR4MLb",
        "outputId": "d7b57718-458b-443e-8cd5-fa5306389fc0"
      },
      "execution_count": 6,
      "outputs": [
        {
          "output_type": "stream",
          "name": "stdout",
          "text": [
            "(2, 3)\n",
            "2\n",
            "[[1 2 3]\n",
            " [4 5 6]]\n"
          ]
        }
      ]
    },
    {
      "cell_type": "code",
      "source": [
        "#3-d arrays\n",
        "arr = np.array([[[1,2,3],[3,4,5]],\n",
        "                [[7,8,9],[4,5,6]]])\n",
        "print(arr.shape)\n",
        "print(arr.ndim)\n",
        "print(arr)"
      ],
      "metadata": {
        "colab": {
          "base_uri": "https://localhost:8080/"
        },
        "id": "c49qRyel4xsk",
        "outputId": "cf7bef47-e982-425e-cf62-35b92c300deb"
      },
      "execution_count": 7,
      "outputs": [
        {
          "output_type": "stream",
          "name": "stdout",
          "text": [
            "(2, 2, 3)\n",
            "3\n",
            "[[[1 2 3]\n",
            "  [3 4 5]]\n",
            "\n",
            " [[7 8 9]\n",
            "  [4 5 6]]]\n"
          ]
        }
      ]
    },
    {
      "cell_type": "code",
      "source": [
        "#creating dimensional arrays\n",
        "arr = np.array([1,2,3,4],ndmin=5)\n",
        "print(arr.ndim)\n",
        "print(arr.shape)\n",
        "print(arr)"
      ],
      "metadata": {
        "colab": {
          "base_uri": "https://localhost:8080/"
        },
        "id": "scI9Xlhu5YXc",
        "outputId": "68e610a5-19bc-4479-bc5d-17ac35704f2b"
      },
      "execution_count": 8,
      "outputs": [
        {
          "output_type": "stream",
          "name": "stdout",
          "text": [
            "5\n",
            "(1, 1, 1, 1, 4)\n",
            "[[[[[1 2 3 4]]]]]\n"
          ]
        }
      ]
    },
    {
      "cell_type": "code",
      "source": [
        "#array indexing \n",
        "arr = np.array([1,2,3,4,5])\n",
        "print(arr[0])\n",
        "print(arr[1]+arr[3])"
      ],
      "metadata": {
        "colab": {
          "base_uri": "https://localhost:8080/"
        },
        "id": "gNL0zH9I51VB",
        "outputId": "cd2f1505-d00c-41db-e3a4-ec10bbbdbd35"
      },
      "execution_count": 9,
      "outputs": [
        {
          "output_type": "stream",
          "name": "stdout",
          "text": [
            "1\n",
            "6\n"
          ]
        }
      ]
    },
    {
      "cell_type": "code",
      "source": [
        "#accessing 2-d arrays\n",
        "arr = np.array([[1,2,3,4],[1,2,3,4]])\n",
        "print(arr[0,1])  #for 3-d arr[i,j,k]\n",
        "#negitive indexing\n",
        "print(arr[0,-1])"
      ],
      "metadata": {
        "colab": {
          "base_uri": "https://localhost:8080/"
        },
        "id": "yQ5dG-LL6CEl",
        "outputId": "f456dd29-1f75-43ad-92d3-ac1d964a1a4c"
      },
      "execution_count": 10,
      "outputs": [
        {
          "output_type": "stream",
          "name": "stdout",
          "text": [
            "2\n",
            "4\n"
          ]
        }
      ]
    },
    {
      "cell_type": "code",
      "source": [
        "#slicing\n",
        "arr = np.array([1,2,3,4,5,6,7,8,9,10])\n",
        "print(arr[1:4])\n",
        "print(arr[1:10:2]) #start end step\n",
        "arr = np.array([[1,2,3],[4,5,6]])\n",
        "print(arr[1:2])\n",
        "print(arr[1:2,1:2]) # u can use step also"
      ],
      "metadata": {
        "colab": {
          "base_uri": "https://localhost:8080/"
        },
        "id": "Frq_wZgD66q1",
        "outputId": "5a1bef4e-4fff-495c-869a-8b6e34abd98c"
      },
      "execution_count": 11,
      "outputs": [
        {
          "output_type": "stream",
          "name": "stdout",
          "text": [
            "[2 3 4]\n",
            "[ 2  4  6  8 10]\n",
            "[[4 5 6]]\n",
            "[[5]]\n"
          ]
        }
      ]
    },
    {
      "cell_type": "code",
      "source": [
        "#data types\n",
        "arr = np.array([1,2,3,4])\n",
        "print(arr.dtype)\n",
        "arr = np.array([1,2,3,4],dtype='S')\n",
        "print(arr.dtype)"
      ],
      "metadata": {
        "colab": {
          "base_uri": "https://localhost:8080/"
        },
        "id": "303gVXVT8Kr2",
        "outputId": "da692173-aa62-4741-e11d-526ac7e78781"
      },
      "execution_count": 12,
      "outputs": [
        {
          "output_type": "stream",
          "name": "stdout",
          "text": [
            "int64\n",
            "|S1\n"
          ]
        }
      ]
    },
    {
      "cell_type": "code",
      "source": [
        "#copy and view\n",
        "arr = np.array([1,2,3,4])\n",
        "x = arr.copy()\n",
        "y = arr.view()\n",
        "print(x)\n",
        "arr[0] = 4\n",
        "print(arr)\n",
        "print(x) #not changed\n",
        "print(y) #changed"
      ],
      "metadata": {
        "colab": {
          "base_uri": "https://localhost:8080/"
        },
        "id": "wzSG5Xt-JrG2",
        "outputId": "e56dfce4-794b-4bc9-955a-7fcd7bbe3c0b"
      },
      "execution_count": 13,
      "outputs": [
        {
          "output_type": "stream",
          "name": "stdout",
          "text": [
            "[1 2 3 4]\n",
            "[4 2 3 4]\n",
            "[1 2 3 4]\n",
            "[4 2 3 4]\n"
          ]
        }
      ]
    },
    {
      "cell_type": "code",
      "source": [
        "#re-shape\n",
        "arr = np.array([1, 2, 3, 4, 5, 6, 7, 8, 9, 10, 11, 12])\n",
        "\n",
        "newarr = arr.reshape(4, 3)\n",
        "\n",
        "print(newarr)"
      ],
      "metadata": {
        "colab": {
          "base_uri": "https://localhost:8080/"
        },
        "id": "DGq7a_jRLX_l",
        "outputId": "d5d6de11-ae46-4b1c-fc8c-e29ba2b887ef"
      },
      "execution_count": 14,
      "outputs": [
        {
          "output_type": "stream",
          "name": "stdout",
          "text": [
            "[[ 1  2  3]\n",
            " [ 4  5  6]\n",
            " [ 7  8  9]\n",
            " [10 11 12]]\n"
          ]
        }
      ]
    },
    {
      "cell_type": "code",
      "source": [
        "#iterating\n",
        "arr = np.array([1,2,3,4,5,6])\n",
        "for i in arr:\n",
        "  print(i)"
      ],
      "metadata": {
        "colab": {
          "base_uri": "https://localhost:8080/"
        },
        "id": "t2it8XeTLgjL",
        "outputId": "a858c0f1-a888-4aee-e326-ddf99728b682"
      },
      "execution_count": 15,
      "outputs": [
        {
          "output_type": "stream",
          "name": "stdout",
          "text": [
            "1\n",
            "2\n",
            "3\n",
            "4\n",
            "5\n",
            "6\n"
          ]
        }
      ]
    },
    {
      "cell_type": "code",
      "source": [
        "#concatenation\n",
        "arr1 = np.array([1,2,3,4,5,6])\n",
        "arr2 = np.array([4,5,6,8,9,10])\n",
        "arr3 = np.concatenate((arr1,arr2))\n",
        "print(arr3)"
      ],
      "metadata": {
        "colab": {
          "base_uri": "https://localhost:8080/"
        },
        "id": "K-RLAvomL2OZ",
        "outputId": "51e52096-71ba-4e34-fe7c-92f40c3fa434"
      },
      "execution_count": 16,
      "outputs": [
        {
          "output_type": "stream",
          "name": "stdout",
          "text": [
            "[ 1  2  3  4  5  6  4  5  6  8  9 10]\n"
          ]
        }
      ]
    },
    {
      "cell_type": "code",
      "source": [
        "arr1 = np.array([[1, 2], [3, 4]])\n",
        "\n",
        "arr2 = np.array([[5, 6], [7, 8]])\n",
        "\n",
        "arr = np.concatenate((arr1, arr2),axis=1)\n",
        "\n",
        "print(arr)"
      ],
      "metadata": {
        "colab": {
          "base_uri": "https://localhost:8080/"
        },
        "id": "coBGluEIMVa8",
        "outputId": "b16aec5d-7858-44f2-acea-a75714391a6f"
      },
      "execution_count": 17,
      "outputs": [
        {
          "output_type": "stream",
          "name": "stdout",
          "text": [
            "[[1 2 5 6]\n",
            " [3 4 7 8]]\n"
          ]
        }
      ]
    },
    {
      "cell_type": "code",
      "source": [
        "#split\n",
        "arr = np.array([1,2,3,4,5,6])\n",
        "print(np.array_split(arr,3))"
      ],
      "metadata": {
        "colab": {
          "base_uri": "https://localhost:8080/"
        },
        "id": "VQGSr-qYMnSw",
        "outputId": "8d776322-1d4e-42e1-82dd-95cba9fed565"
      },
      "execution_count": 18,
      "outputs": [
        {
          "output_type": "stream",
          "name": "stdout",
          "text": [
            "[array([1, 2]), array([3, 4]), array([5, 6])]\n"
          ]
        }
      ]
    },
    {
      "cell_type": "code",
      "source": [
        "#search\n",
        "print(np.where(arr == 4))"
      ],
      "metadata": {
        "colab": {
          "base_uri": "https://localhost:8080/"
        },
        "id": "6-qdcQ7VNJzu",
        "outputId": "a7c0e618-9e7c-4a5f-e095-d4c32bd8a97c"
      },
      "execution_count": 19,
      "outputs": [
        {
          "output_type": "stream",
          "name": "stdout",
          "text": [
            "(array([3]),)\n"
          ]
        }
      ]
    },
    {
      "cell_type": "code",
      "source": [
        "#sort\n",
        "print(np.sort(arr))"
      ],
      "metadata": {
        "colab": {
          "base_uri": "https://localhost:8080/"
        },
        "id": "-LP-dClbNPqo",
        "outputId": "d8c63213-239c-4f90-c0b7-2702c964bbe2"
      },
      "execution_count": 20,
      "outputs": [
        {
          "output_type": "stream",
          "name": "stdout",
          "text": [
            "[1 2 3 4 5 6]\n"
          ]
        }
      ]
    },
    {
      "cell_type": "code",
      "source": [
        "#filter\n",
        "filter_arr = arr>3\n",
        "print(filter_arr)"
      ],
      "metadata": {
        "colab": {
          "base_uri": "https://localhost:8080/"
        },
        "id": "NbLQYoFxNhu_",
        "outputId": "5ba62f5d-ec26-4ab4-9313-8a53ce7598de"
      },
      "execution_count": 21,
      "outputs": [
        {
          "output_type": "stream",
          "name": "stdout",
          "text": [
            "[False False False  True  True  True]\n"
          ]
        }
      ]
    },
    {
      "cell_type": "code",
      "source": [
        "#add subtract multiply and sum\n",
        "arr1 = np.array([[1,2],[3,4]])\n",
        "arr2 = np.array([[4,5],[7,6]])\n",
        "print(np.add(arr1,arr2))\n",
        "print(np.subtract(arr1,arr2))\n",
        "print(np.multiply(arr1,arr2))\n",
        "print(np.sum((arr1,arr2),axis=1))"
      ],
      "metadata": {
        "colab": {
          "base_uri": "https://localhost:8080/"
        },
        "id": "DUl5erksNoJf",
        "outputId": "d2ee61b5-8bfb-4625-e3a2-e7a53b53023b"
      },
      "execution_count": 22,
      "outputs": [
        {
          "output_type": "stream",
          "name": "stdout",
          "text": [
            "[[ 5  7]\n",
            " [10 10]]\n",
            "[[-3 -3]\n",
            " [-4 -2]]\n",
            "[[ 4 10]\n",
            " [21 24]]\n",
            "[[ 4  6]\n",
            " [11 11]]\n"
          ]
        }
      ]
    },
    {
      "cell_type": "code",
      "source": [
        "#transpose\n",
        "print(arr.T)"
      ],
      "metadata": {
        "colab": {
          "base_uri": "https://localhost:8080/"
        },
        "id": "VbcqQ4v2PBAJ",
        "outputId": "c220ddc1-ad55-40cc-9768-33790218f0d6"
      },
      "execution_count": 23,
      "outputs": [
        {
          "output_type": "stream",
          "name": "stdout",
          "text": [
            "[1 2 3 4 5 6]\n"
          ]
        }
      ]
    }
  ]
}