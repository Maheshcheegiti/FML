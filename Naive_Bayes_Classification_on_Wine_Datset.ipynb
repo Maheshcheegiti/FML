{
  "nbformat": 4,
  "nbformat_minor": 0,
  "metadata": {
    "colab": {
      "provenance": [],
      "mount_file_id": "19Wau68Zsd9x5txCleQu8fa3maNI0N-pe",
      "authorship_tag": "ABX9TyOfpVRVpwjvmPOudWuakULy",
      "include_colab_link": true
    },
    "kernelspec": {
      "name": "python3",
      "display_name": "Python 3"
    },
    "language_info": {
      "name": "python"
    }
  },
  "cells": [
    {
      "cell_type": "markdown",
      "metadata": {
        "id": "view-in-github",
        "colab_type": "text"
      },
      "source": [
        "<a href=\"https://colab.research.google.com/github/Maheshcheegiti/FML/blob/main/Naive_Bayes_Classification_on_Wine_Datset.ipynb\" target=\"_parent\"><img src=\"https://colab.research.google.com/assets/colab-badge.svg\" alt=\"Open In Colab\"/></a>"
      ]
    },
    {
      "cell_type": "code",
      "source": [
        "import pandas as pd\n",
        "import numpy as np\n",
        "from sklearn import datasets\n"
      ],
      "metadata": {
        "id": "64X6ifkdfGlo"
      },
      "execution_count": 61,
      "outputs": []
    },
    {
      "cell_type": "code",
      "source": [
        "from sklearn.datasets import load_wine\n",
        "import pandas as pd"
      ],
      "metadata": {
        "id": "JX9RGBhtk5ut"
      },
      "execution_count": 62,
      "outputs": []
    },
    {
      "cell_type": "code",
      "source": [
        "wine_data = datasets.load_wine()\n",
        "# create a Pandas DataFrame from the wine dataset\n",
        "df = pd.DataFrame(wine_data.data, columns=wine_data.feature_names)\n",
        "\n",
        "# add the target column to the DataFrame\n",
        "df['target'] = wine_data.target\n",
        "\n",
        "df.head()"
      ],
      "metadata": {
        "colab": {
          "base_uri": "https://localhost:8080/",
          "height": 268
        },
        "id": "bmov5n4CkVMP",
        "outputId": "44597bfc-0c94-40d9-dfa7-4870c3e99167"
      },
      "execution_count": 63,
      "outputs": [
        {
          "output_type": "execute_result",
          "data": {
            "text/plain": [
              "   alcohol  malic_acid   ash  alcalinity_of_ash  magnesium  total_phenols  \\\n",
              "0    14.23        1.71  2.43               15.6      127.0           2.80   \n",
              "1    13.20        1.78  2.14               11.2      100.0           2.65   \n",
              "2    13.16        2.36  2.67               18.6      101.0           2.80   \n",
              "3    14.37        1.95  2.50               16.8      113.0           3.85   \n",
              "4    13.24        2.59  2.87               21.0      118.0           2.80   \n",
              "\n",
              "   flavanoids  nonflavanoid_phenols  proanthocyanins  color_intensity   hue  \\\n",
              "0        3.06                  0.28             2.29             5.64  1.04   \n",
              "1        2.76                  0.26             1.28             4.38  1.05   \n",
              "2        3.24                  0.30             2.81             5.68  1.03   \n",
              "3        3.49                  0.24             2.18             7.80  0.86   \n",
              "4        2.69                  0.39             1.82             4.32  1.04   \n",
              "\n",
              "   od280/od315_of_diluted_wines  proline  target  \n",
              "0                          3.92   1065.0       0  \n",
              "1                          3.40   1050.0       0  \n",
              "2                          3.17   1185.0       0  \n",
              "3                          3.45   1480.0       0  \n",
              "4                          2.93    735.0       0  "
            ],
            "text/html": [
              "\n",
              "  <div id=\"df-eb031c77-bf5a-417e-8d4a-25d0045487a0\">\n",
              "    <div class=\"colab-df-container\">\n",
              "      <div>\n",
              "<style scoped>\n",
              "    .dataframe tbody tr th:only-of-type {\n",
              "        vertical-align: middle;\n",
              "    }\n",
              "\n",
              "    .dataframe tbody tr th {\n",
              "        vertical-align: top;\n",
              "    }\n",
              "\n",
              "    .dataframe thead th {\n",
              "        text-align: right;\n",
              "    }\n",
              "</style>\n",
              "<table border=\"1\" class=\"dataframe\">\n",
              "  <thead>\n",
              "    <tr style=\"text-align: right;\">\n",
              "      <th></th>\n",
              "      <th>alcohol</th>\n",
              "      <th>malic_acid</th>\n",
              "      <th>ash</th>\n",
              "      <th>alcalinity_of_ash</th>\n",
              "      <th>magnesium</th>\n",
              "      <th>total_phenols</th>\n",
              "      <th>flavanoids</th>\n",
              "      <th>nonflavanoid_phenols</th>\n",
              "      <th>proanthocyanins</th>\n",
              "      <th>color_intensity</th>\n",
              "      <th>hue</th>\n",
              "      <th>od280/od315_of_diluted_wines</th>\n",
              "      <th>proline</th>\n",
              "      <th>target</th>\n",
              "    </tr>\n",
              "  </thead>\n",
              "  <tbody>\n",
              "    <tr>\n",
              "      <th>0</th>\n",
              "      <td>14.23</td>\n",
              "      <td>1.71</td>\n",
              "      <td>2.43</td>\n",
              "      <td>15.6</td>\n",
              "      <td>127.0</td>\n",
              "      <td>2.80</td>\n",
              "      <td>3.06</td>\n",
              "      <td>0.28</td>\n",
              "      <td>2.29</td>\n",
              "      <td>5.64</td>\n",
              "      <td>1.04</td>\n",
              "      <td>3.92</td>\n",
              "      <td>1065.0</td>\n",
              "      <td>0</td>\n",
              "    </tr>\n",
              "    <tr>\n",
              "      <th>1</th>\n",
              "      <td>13.20</td>\n",
              "      <td>1.78</td>\n",
              "      <td>2.14</td>\n",
              "      <td>11.2</td>\n",
              "      <td>100.0</td>\n",
              "      <td>2.65</td>\n",
              "      <td>2.76</td>\n",
              "      <td>0.26</td>\n",
              "      <td>1.28</td>\n",
              "      <td>4.38</td>\n",
              "      <td>1.05</td>\n",
              "      <td>3.40</td>\n",
              "      <td>1050.0</td>\n",
              "      <td>0</td>\n",
              "    </tr>\n",
              "    <tr>\n",
              "      <th>2</th>\n",
              "      <td>13.16</td>\n",
              "      <td>2.36</td>\n",
              "      <td>2.67</td>\n",
              "      <td>18.6</td>\n",
              "      <td>101.0</td>\n",
              "      <td>2.80</td>\n",
              "      <td>3.24</td>\n",
              "      <td>0.30</td>\n",
              "      <td>2.81</td>\n",
              "      <td>5.68</td>\n",
              "      <td>1.03</td>\n",
              "      <td>3.17</td>\n",
              "      <td>1185.0</td>\n",
              "      <td>0</td>\n",
              "    </tr>\n",
              "    <tr>\n",
              "      <th>3</th>\n",
              "      <td>14.37</td>\n",
              "      <td>1.95</td>\n",
              "      <td>2.50</td>\n",
              "      <td>16.8</td>\n",
              "      <td>113.0</td>\n",
              "      <td>3.85</td>\n",
              "      <td>3.49</td>\n",
              "      <td>0.24</td>\n",
              "      <td>2.18</td>\n",
              "      <td>7.80</td>\n",
              "      <td>0.86</td>\n",
              "      <td>3.45</td>\n",
              "      <td>1480.0</td>\n",
              "      <td>0</td>\n",
              "    </tr>\n",
              "    <tr>\n",
              "      <th>4</th>\n",
              "      <td>13.24</td>\n",
              "      <td>2.59</td>\n",
              "      <td>2.87</td>\n",
              "      <td>21.0</td>\n",
              "      <td>118.0</td>\n",
              "      <td>2.80</td>\n",
              "      <td>2.69</td>\n",
              "      <td>0.39</td>\n",
              "      <td>1.82</td>\n",
              "      <td>4.32</td>\n",
              "      <td>1.04</td>\n",
              "      <td>2.93</td>\n",
              "      <td>735.0</td>\n",
              "      <td>0</td>\n",
              "    </tr>\n",
              "  </tbody>\n",
              "</table>\n",
              "</div>\n",
              "      <button class=\"colab-df-convert\" onclick=\"convertToInteractive('df-eb031c77-bf5a-417e-8d4a-25d0045487a0')\"\n",
              "              title=\"Convert this dataframe to an interactive table.\"\n",
              "              style=\"display:none;\">\n",
              "        \n",
              "  <svg xmlns=\"http://www.w3.org/2000/svg\" height=\"24px\"viewBox=\"0 0 24 24\"\n",
              "       width=\"24px\">\n",
              "    <path d=\"M0 0h24v24H0V0z\" fill=\"none\"/>\n",
              "    <path d=\"M18.56 5.44l.94 2.06.94-2.06 2.06-.94-2.06-.94-.94-2.06-.94 2.06-2.06.94zm-11 1L8.5 8.5l.94-2.06 2.06-.94-2.06-.94L8.5 2.5l-.94 2.06-2.06.94zm10 10l.94 2.06.94-2.06 2.06-.94-2.06-.94-.94-2.06-.94 2.06-2.06.94z\"/><path d=\"M17.41 7.96l-1.37-1.37c-.4-.4-.92-.59-1.43-.59-.52 0-1.04.2-1.43.59L10.3 9.45l-7.72 7.72c-.78.78-.78 2.05 0 2.83L4 21.41c.39.39.9.59 1.41.59.51 0 1.02-.2 1.41-.59l7.78-7.78 2.81-2.81c.8-.78.8-2.07 0-2.86zM5.41 20L4 18.59l7.72-7.72 1.47 1.35L5.41 20z\"/>\n",
              "  </svg>\n",
              "      </button>\n",
              "      \n",
              "  <style>\n",
              "    .colab-df-container {\n",
              "      display:flex;\n",
              "      flex-wrap:wrap;\n",
              "      gap: 12px;\n",
              "    }\n",
              "\n",
              "    .colab-df-convert {\n",
              "      background-color: #E8F0FE;\n",
              "      border: none;\n",
              "      border-radius: 50%;\n",
              "      cursor: pointer;\n",
              "      display: none;\n",
              "      fill: #1967D2;\n",
              "      height: 32px;\n",
              "      padding: 0 0 0 0;\n",
              "      width: 32px;\n",
              "    }\n",
              "\n",
              "    .colab-df-convert:hover {\n",
              "      background-color: #E2EBFA;\n",
              "      box-shadow: 0px 1px 2px rgba(60, 64, 67, 0.3), 0px 1px 3px 1px rgba(60, 64, 67, 0.15);\n",
              "      fill: #174EA6;\n",
              "    }\n",
              "\n",
              "    [theme=dark] .colab-df-convert {\n",
              "      background-color: #3B4455;\n",
              "      fill: #D2E3FC;\n",
              "    }\n",
              "\n",
              "    [theme=dark] .colab-df-convert:hover {\n",
              "      background-color: #434B5C;\n",
              "      box-shadow: 0px 1px 3px 1px rgba(0, 0, 0, 0.15);\n",
              "      filter: drop-shadow(0px 1px 2px rgba(0, 0, 0, 0.3));\n",
              "      fill: #FFFFFF;\n",
              "    }\n",
              "  </style>\n",
              "\n",
              "      <script>\n",
              "        const buttonEl =\n",
              "          document.querySelector('#df-eb031c77-bf5a-417e-8d4a-25d0045487a0 button.colab-df-convert');\n",
              "        buttonEl.style.display =\n",
              "          google.colab.kernel.accessAllowed ? 'block' : 'none';\n",
              "\n",
              "        async function convertToInteractive(key) {\n",
              "          const element = document.querySelector('#df-eb031c77-bf5a-417e-8d4a-25d0045487a0');\n",
              "          const dataTable =\n",
              "            await google.colab.kernel.invokeFunction('convertToInteractive',\n",
              "                                                     [key], {});\n",
              "          if (!dataTable) return;\n",
              "\n",
              "          const docLinkHtml = 'Like what you see? Visit the ' +\n",
              "            '<a target=\"_blank\" href=https://colab.research.google.com/notebooks/data_table.ipynb>data table notebook</a>'\n",
              "            + ' to learn more about interactive tables.';\n",
              "          element.innerHTML = '';\n",
              "          dataTable['output_type'] = 'display_data';\n",
              "          await google.colab.output.renderOutput(dataTable, element);\n",
              "          const docLink = document.createElement('div');\n",
              "          docLink.innerHTML = docLinkHtml;\n",
              "          element.appendChild(docLink);\n",
              "        }\n",
              "      </script>\n",
              "    </div>\n",
              "  </div>\n",
              "  "
            ]
          },
          "metadata": {},
          "execution_count": 63
        }
      ]
    },
    {
      "cell_type": "code",
      "source": [
        "print(\"Features: \", wine_data.feature_names)\n",
        "print(\"Labels: \", wine_data.target_names)"
      ],
      "metadata": {
        "colab": {
          "base_uri": "https://localhost:8080/"
        },
        "id": "1CgA5XV8knJ1",
        "outputId": "8486383f-20fc-42d0-a6ba-42905d8897e0"
      },
      "execution_count": 64,
      "outputs": [
        {
          "output_type": "stream",
          "name": "stdout",
          "text": [
            "Features:  ['alcohol', 'malic_acid', 'ash', 'alcalinity_of_ash', 'magnesium', 'total_phenols', 'flavanoids', 'nonflavanoid_phenols', 'proanthocyanins', 'color_intensity', 'hue', 'od280/od315_of_diluted_wines', 'proline']\n",
            "Labels:  ['class_0' 'class_1' 'class_2']\n"
          ]
        }
      ]
    },
    {
      "cell_type": "markdown",
      "source": [
        "#EDA"
      ],
      "metadata": {
        "id": "GfU0L9Igg1Q7"
      }
    },
    {
      "cell_type": "code",
      "source": [
        "df.isnull().sum()"
      ],
      "metadata": {
        "colab": {
          "base_uri": "https://localhost:8080/"
        },
        "id": "fYM7889wgzcS",
        "outputId": "b6dce850-deec-443b-c6d7-4fe24cefac5a"
      },
      "execution_count": 65,
      "outputs": [
        {
          "output_type": "execute_result",
          "data": {
            "text/plain": [
              "alcohol                         0\n",
              "malic_acid                      0\n",
              "ash                             0\n",
              "alcalinity_of_ash               0\n",
              "magnesium                       0\n",
              "total_phenols                   0\n",
              "flavanoids                      0\n",
              "nonflavanoid_phenols            0\n",
              "proanthocyanins                 0\n",
              "color_intensity                 0\n",
              "hue                             0\n",
              "od280/od315_of_diluted_wines    0\n",
              "proline                         0\n",
              "target                          0\n",
              "dtype: int64"
            ]
          },
          "metadata": {},
          "execution_count": 65
        }
      ]
    },
    {
      "cell_type": "code",
      "source": [
        "df.describe()[1:].style.background_gradient()"
      ],
      "metadata": {
        "colab": {
          "base_uri": "https://localhost:8080/",
          "height": 286
        },
        "id": "PSw_Flwug46f",
        "outputId": "13abb327-15b5-4e3a-82a4-bc7b6b5ba085"
      },
      "execution_count": 66,
      "outputs": [
        {
          "output_type": "execute_result",
          "data": {
            "text/plain": [
              "<pandas.io.formats.style.Styler at 0x7fdb91ccf190>"
            ],
            "text/html": [
              "<style type=\"text/css\">\n",
              "#T_d9702_row0_col0 {\n",
              "  background-color: #045b8e;\n",
              "  color: #f1f1f1;\n",
              "}\n",
              "#T_d9702_row0_col1 {\n",
              "  background-color: #bbc7e0;\n",
              "  color: #000000;\n",
              "}\n",
              "#T_d9702_row0_col2 {\n",
              "  background-color: #157ab5;\n",
              "  color: #f1f1f1;\n",
              "}\n",
              "#T_d9702_row0_col3, #T_d9702_row4_col3 {\n",
              "  background-color: #3f93c2;\n",
              "  color: #f1f1f1;\n",
              "}\n",
              "#T_d9702_row0_col4 {\n",
              "  background-color: #4c99c5;\n",
              "  color: #f1f1f1;\n",
              "}\n",
              "#T_d9702_row0_col5 {\n",
              "  background-color: #6da6cd;\n",
              "  color: #f1f1f1;\n",
              "}\n",
              "#T_d9702_row0_col6 {\n",
              "  background-color: #acc0dd;\n",
              "  color: #000000;\n",
              "}\n",
              "#T_d9702_row0_col7 {\n",
              "  background-color: #8bb2d4;\n",
              "  color: #000000;\n",
              "}\n",
              "#T_d9702_row0_col8, #T_d9702_row3_col10, #T_d9702_row3_col11 {\n",
              "  background-color: #a7bddb;\n",
              "  color: #000000;\n",
              "}\n",
              "#T_d9702_row0_col9 {\n",
              "  background-color: #b8c6e0;\n",
              "  color: #000000;\n",
              "}\n",
              "#T_d9702_row0_col10 {\n",
              "  background-color: #78abd0;\n",
              "  color: #f1f1f1;\n",
              "}\n",
              "#T_d9702_row0_col11 {\n",
              "  background-color: #4e9ac6;\n",
              "  color: #f1f1f1;\n",
              "}\n",
              "#T_d9702_row0_col12 {\n",
              "  background-color: #b4c4df;\n",
              "  color: #000000;\n",
              "}\n",
              "#T_d9702_row0_col13 {\n",
              "  background-color: #80aed2;\n",
              "  color: #f1f1f1;\n",
              "}\n",
              "#T_d9702_row1_col0, #T_d9702_row1_col2, #T_d9702_row1_col3, #T_d9702_row1_col4, #T_d9702_row1_col5, #T_d9702_row1_col7, #T_d9702_row1_col10, #T_d9702_row1_col11, #T_d9702_row2_col1, #T_d9702_row2_col6, #T_d9702_row2_col8, #T_d9702_row2_col9, #T_d9702_row2_col12, #T_d9702_row2_col13, #T_d9702_row3_col13 {\n",
              "  background-color: #fff7fb;\n",
              "  color: #000000;\n",
              "}\n",
              "#T_d9702_row1_col1 {\n",
              "  background-color: #f4edf6;\n",
              "  color: #000000;\n",
              "}\n",
              "#T_d9702_row1_col6 {\n",
              "  background-color: #e9e5f1;\n",
              "  color: #000000;\n",
              "}\n",
              "#T_d9702_row1_col8 {\n",
              "  background-color: #f7f0f7;\n",
              "  color: #000000;\n",
              "}\n",
              "#T_d9702_row1_col9 {\n",
              "  background-color: #f2ecf5;\n",
              "  color: #000000;\n",
              "}\n",
              "#T_d9702_row1_col12 {\n",
              "  background-color: #fbf4f9;\n",
              "  color: #000000;\n",
              "}\n",
              "#T_d9702_row1_col13 {\n",
              "  background-color: #a1bbda;\n",
              "  color: #000000;\n",
              "}\n",
              "#T_d9702_row2_col0 {\n",
              "  background-color: #0d75b3;\n",
              "  color: #f1f1f1;\n",
              "}\n",
              "#T_d9702_row2_col2 {\n",
              "  background-color: #a8bedc;\n",
              "  color: #000000;\n",
              "}\n",
              "#T_d9702_row2_col3, #T_d9702_row3_col7 {\n",
              "  background-color: #c9cee4;\n",
              "  color: #000000;\n",
              "}\n",
              "#T_d9702_row2_col4, #T_d9702_row4_col6 {\n",
              "  background-color: #a5bddb;\n",
              "  color: #000000;\n",
              "}\n",
              "#T_d9702_row2_col5 {\n",
              "  background-color: #efe9f3;\n",
              "  color: #000000;\n",
              "}\n",
              "#T_d9702_row2_col7 {\n",
              "  background-color: #fef6fa;\n",
              "  color: #000000;\n",
              "}\n",
              "#T_d9702_row2_col10, #T_d9702_row2_col11, #T_d9702_row3_col1 {\n",
              "  background-color: #e2dfee;\n",
              "  color: #000000;\n",
              "}\n",
              "#T_d9702_row3_col0 {\n",
              "  background-color: #04639b;\n",
              "  color: #f1f1f1;\n",
              "}\n",
              "#T_d9702_row3_col2 {\n",
              "  background-color: #2a88bc;\n",
              "  color: #f1f1f1;\n",
              "}\n",
              "#T_d9702_row3_col3 {\n",
              "  background-color: #69a5cc;\n",
              "  color: #f1f1f1;\n",
              "}\n",
              "#T_d9702_row3_col4, #T_d9702_row4_col10 {\n",
              "  background-color: #75a9cf;\n",
              "  color: #f1f1f1;\n",
              "}\n",
              "#T_d9702_row3_col5 {\n",
              "  background-color: #b1c2de;\n",
              "  color: #000000;\n",
              "}\n",
              "#T_d9702_row3_col6 {\n",
              "  background-color: #e0dded;\n",
              "  color: #000000;\n",
              "}\n",
              "#T_d9702_row3_col8 {\n",
              "  background-color: #cccfe5;\n",
              "  color: #000000;\n",
              "}\n",
              "#T_d9702_row3_col9 {\n",
              "  background-color: #e3e0ee;\n",
              "  color: #000000;\n",
              "}\n",
              "#T_d9702_row3_col12 {\n",
              "  background-color: #e5e1ef;\n",
              "  color: #000000;\n",
              "}\n",
              "#T_d9702_row4_col0 {\n",
              "  background-color: #045a8d;\n",
              "  color: #f1f1f1;\n",
              "}\n",
              "#T_d9702_row4_col1 {\n",
              "  background-color: #d7d6e9;\n",
              "  color: #000000;\n",
              "}\n",
              "#T_d9702_row4_col2 {\n",
              "  background-color: #167bb6;\n",
              "  color: #f1f1f1;\n",
              "}\n",
              "#T_d9702_row4_col4 {\n",
              "  background-color: #529bc7;\n",
              "  color: #f1f1f1;\n",
              "}\n",
              "#T_d9702_row4_col5, #T_d9702_row5_col6 {\n",
              "  background-color: #63a2cb;\n",
              "  color: #f1f1f1;\n",
              "}\n",
              "#T_d9702_row4_col7 {\n",
              "  background-color: #9ab8d8;\n",
              "  color: #000000;\n",
              "}\n",
              "#T_d9702_row4_col8 {\n",
              "  background-color: #abbfdc;\n",
              "  color: #000000;\n",
              "}\n",
              "#T_d9702_row4_col9 {\n",
              "  background-color: #c2cbe2;\n",
              "  color: #000000;\n",
              "}\n",
              "#T_d9702_row4_col11 {\n",
              "  background-color: #348ebf;\n",
              "  color: #f1f1f1;\n",
              "}\n",
              "#T_d9702_row4_col12 {\n",
              "  background-color: #c5cce3;\n",
              "  color: #000000;\n",
              "}\n",
              "#T_d9702_row4_col13 {\n",
              "  background-color: #73a9cf;\n",
              "  color: #f1f1f1;\n",
              "}\n",
              "#T_d9702_row5_col0 {\n",
              "  background-color: #034e7b;\n",
              "  color: #f1f1f1;\n",
              "}\n",
              "#T_d9702_row5_col1 {\n",
              "  background-color: #83afd3;\n",
              "  color: #f1f1f1;\n",
              "}\n",
              "#T_d9702_row5_col2 {\n",
              "  background-color: #056caa;\n",
              "  color: #f1f1f1;\n",
              "}\n",
              "#T_d9702_row5_col3 {\n",
              "  background-color: #2081b9;\n",
              "  color: #f1f1f1;\n",
              "}\n",
              "#T_d9702_row5_col4 {\n",
              "  background-color: #358fc0;\n",
              "  color: #f1f1f1;\n",
              "}\n",
              "#T_d9702_row5_col5 {\n",
              "  background-color: #2484ba;\n",
              "  color: #f1f1f1;\n",
              "}\n",
              "#T_d9702_row5_col7 {\n",
              "  background-color: #4a98c5;\n",
              "  color: #f1f1f1;\n",
              "}\n",
              "#T_d9702_row5_col8 {\n",
              "  background-color: #79abd0;\n",
              "  color: #f1f1f1;\n",
              "}\n",
              "#T_d9702_row5_col9 {\n",
              "  background-color: #94b6d7;\n",
              "  color: #000000;\n",
              "}\n",
              "#T_d9702_row5_col10 {\n",
              "  background-color: #4094c3;\n",
              "  color: #f1f1f1;\n",
              "}\n",
              "#T_d9702_row5_col11 {\n",
              "  background-color: #0570b0;\n",
              "  color: #f1f1f1;\n",
              "}\n",
              "#T_d9702_row5_col12 {\n",
              "  background-color: #71a8ce;\n",
              "  color: #f1f1f1;\n",
              "}\n",
              "#T_d9702_row5_col13, #T_d9702_row6_col0, #T_d9702_row6_col1, #T_d9702_row6_col2, #T_d9702_row6_col3, #T_d9702_row6_col4, #T_d9702_row6_col5, #T_d9702_row6_col6, #T_d9702_row6_col7, #T_d9702_row6_col8, #T_d9702_row6_col9, #T_d9702_row6_col10, #T_d9702_row6_col11, #T_d9702_row6_col12, #T_d9702_row6_col13 {\n",
              "  background-color: #023858;\n",
              "  color: #f1f1f1;\n",
              "}\n",
              "</style>\n",
              "<table id=\"T_d9702\" class=\"dataframe\">\n",
              "  <thead>\n",
              "    <tr>\n",
              "      <th class=\"blank level0\" >&nbsp;</th>\n",
              "      <th id=\"T_d9702_level0_col0\" class=\"col_heading level0 col0\" >alcohol</th>\n",
              "      <th id=\"T_d9702_level0_col1\" class=\"col_heading level0 col1\" >malic_acid</th>\n",
              "      <th id=\"T_d9702_level0_col2\" class=\"col_heading level0 col2\" >ash</th>\n",
              "      <th id=\"T_d9702_level0_col3\" class=\"col_heading level0 col3\" >alcalinity_of_ash</th>\n",
              "      <th id=\"T_d9702_level0_col4\" class=\"col_heading level0 col4\" >magnesium</th>\n",
              "      <th id=\"T_d9702_level0_col5\" class=\"col_heading level0 col5\" >total_phenols</th>\n",
              "      <th id=\"T_d9702_level0_col6\" class=\"col_heading level0 col6\" >flavanoids</th>\n",
              "      <th id=\"T_d9702_level0_col7\" class=\"col_heading level0 col7\" >nonflavanoid_phenols</th>\n",
              "      <th id=\"T_d9702_level0_col8\" class=\"col_heading level0 col8\" >proanthocyanins</th>\n",
              "      <th id=\"T_d9702_level0_col9\" class=\"col_heading level0 col9\" >color_intensity</th>\n",
              "      <th id=\"T_d9702_level0_col10\" class=\"col_heading level0 col10\" >hue</th>\n",
              "      <th id=\"T_d9702_level0_col11\" class=\"col_heading level0 col11\" >od280/od315_of_diluted_wines</th>\n",
              "      <th id=\"T_d9702_level0_col12\" class=\"col_heading level0 col12\" >proline</th>\n",
              "      <th id=\"T_d9702_level0_col13\" class=\"col_heading level0 col13\" >target</th>\n",
              "    </tr>\n",
              "  </thead>\n",
              "  <tbody>\n",
              "    <tr>\n",
              "      <th id=\"T_d9702_level0_row0\" class=\"row_heading level0 row0\" >mean</th>\n",
              "      <td id=\"T_d9702_row0_col0\" class=\"data row0 col0\" >13.000618</td>\n",
              "      <td id=\"T_d9702_row0_col1\" class=\"data row0 col1\" >2.336348</td>\n",
              "      <td id=\"T_d9702_row0_col2\" class=\"data row0 col2\" >2.366517</td>\n",
              "      <td id=\"T_d9702_row0_col3\" class=\"data row0 col3\" >19.494944</td>\n",
              "      <td id=\"T_d9702_row0_col4\" class=\"data row0 col4\" >99.741573</td>\n",
              "      <td id=\"T_d9702_row0_col5\" class=\"data row0 col5\" >2.295112</td>\n",
              "      <td id=\"T_d9702_row0_col6\" class=\"data row0 col6\" >2.029270</td>\n",
              "      <td id=\"T_d9702_row0_col7\" class=\"data row0 col7\" >0.361854</td>\n",
              "      <td id=\"T_d9702_row0_col8\" class=\"data row0 col8\" >1.590899</td>\n",
              "      <td id=\"T_d9702_row0_col9\" class=\"data row0 col9\" >5.058090</td>\n",
              "      <td id=\"T_d9702_row0_col10\" class=\"data row0 col10\" >0.957449</td>\n",
              "      <td id=\"T_d9702_row0_col11\" class=\"data row0 col11\" >2.611685</td>\n",
              "      <td id=\"T_d9702_row0_col12\" class=\"data row0 col12\" >746.893258</td>\n",
              "      <td id=\"T_d9702_row0_col13\" class=\"data row0 col13\" >0.938202</td>\n",
              "    </tr>\n",
              "    <tr>\n",
              "      <th id=\"T_d9702_level0_row1\" class=\"row_heading level0 row1\" >std</th>\n",
              "      <td id=\"T_d9702_row1_col0\" class=\"data row1 col0\" >0.811827</td>\n",
              "      <td id=\"T_d9702_row1_col1\" class=\"data row1 col1\" >1.117146</td>\n",
              "      <td id=\"T_d9702_row1_col2\" class=\"data row1 col2\" >0.274344</td>\n",
              "      <td id=\"T_d9702_row1_col3\" class=\"data row1 col3\" >3.339564</td>\n",
              "      <td id=\"T_d9702_row1_col4\" class=\"data row1 col4\" >14.282484</td>\n",
              "      <td id=\"T_d9702_row1_col5\" class=\"data row1 col5\" >0.625851</td>\n",
              "      <td id=\"T_d9702_row1_col6\" class=\"data row1 col6\" >0.998859</td>\n",
              "      <td id=\"T_d9702_row1_col7\" class=\"data row1 col7\" >0.124453</td>\n",
              "      <td id=\"T_d9702_row1_col8\" class=\"data row1 col8\" >0.572359</td>\n",
              "      <td id=\"T_d9702_row1_col9\" class=\"data row1 col9\" >2.318286</td>\n",
              "      <td id=\"T_d9702_row1_col10\" class=\"data row1 col10\" >0.228572</td>\n",
              "      <td id=\"T_d9702_row1_col11\" class=\"data row1 col11\" >0.709990</td>\n",
              "      <td id=\"T_d9702_row1_col12\" class=\"data row1 col12\" >314.907474</td>\n",
              "      <td id=\"T_d9702_row1_col13\" class=\"data row1 col13\" >0.775035</td>\n",
              "    </tr>\n",
              "    <tr>\n",
              "      <th id=\"T_d9702_level0_row2\" class=\"row_heading level0 row2\" >min</th>\n",
              "      <td id=\"T_d9702_row2_col0\" class=\"data row2 col0\" >11.030000</td>\n",
              "      <td id=\"T_d9702_row2_col1\" class=\"data row2 col1\" >0.740000</td>\n",
              "      <td id=\"T_d9702_row2_col2\" class=\"data row2 col2\" >1.360000</td>\n",
              "      <td id=\"T_d9702_row2_col3\" class=\"data row2 col3\" >10.600000</td>\n",
              "      <td id=\"T_d9702_row2_col4\" class=\"data row2 col4\" >70.000000</td>\n",
              "      <td id=\"T_d9702_row2_col5\" class=\"data row2 col5\" >0.980000</td>\n",
              "      <td id=\"T_d9702_row2_col6\" class=\"data row2 col6\" >0.340000</td>\n",
              "      <td id=\"T_d9702_row2_col7\" class=\"data row2 col7\" >0.130000</td>\n",
              "      <td id=\"T_d9702_row2_col8\" class=\"data row2 col8\" >0.410000</td>\n",
              "      <td id=\"T_d9702_row2_col9\" class=\"data row2 col9\" >1.280000</td>\n",
              "      <td id=\"T_d9702_row2_col10\" class=\"data row2 col10\" >0.480000</td>\n",
              "      <td id=\"T_d9702_row2_col11\" class=\"data row2 col11\" >1.270000</td>\n",
              "      <td id=\"T_d9702_row2_col12\" class=\"data row2 col12\" >278.000000</td>\n",
              "      <td id=\"T_d9702_row2_col13\" class=\"data row2 col13\" >0.000000</td>\n",
              "    </tr>\n",
              "    <tr>\n",
              "      <th id=\"T_d9702_level0_row3\" class=\"row_heading level0 row3\" >25%</th>\n",
              "      <td id=\"T_d9702_row3_col0\" class=\"data row3 col0\" >12.362500</td>\n",
              "      <td id=\"T_d9702_row3_col1\" class=\"data row3 col1\" >1.602500</td>\n",
              "      <td id=\"T_d9702_row3_col2\" class=\"data row3 col2\" >2.210000</td>\n",
              "      <td id=\"T_d9702_row3_col3\" class=\"data row3 col3\" >17.200000</td>\n",
              "      <td id=\"T_d9702_row3_col4\" class=\"data row3 col4\" >88.000000</td>\n",
              "      <td id=\"T_d9702_row3_col5\" class=\"data row3 col5\" >1.742500</td>\n",
              "      <td id=\"T_d9702_row3_col6\" class=\"data row3 col6\" >1.205000</td>\n",
              "      <td id=\"T_d9702_row3_col7\" class=\"data row3 col7\" >0.270000</td>\n",
              "      <td id=\"T_d9702_row3_col8\" class=\"data row3 col8\" >1.250000</td>\n",
              "      <td id=\"T_d9702_row3_col9\" class=\"data row3 col9\" >3.220000</td>\n",
              "      <td id=\"T_d9702_row3_col10\" class=\"data row3 col10\" >0.782500</td>\n",
              "      <td id=\"T_d9702_row3_col11\" class=\"data row3 col11\" >1.937500</td>\n",
              "      <td id=\"T_d9702_row3_col12\" class=\"data row3 col12\" >500.500000</td>\n",
              "      <td id=\"T_d9702_row3_col13\" class=\"data row3 col13\" >0.000000</td>\n",
              "    </tr>\n",
              "    <tr>\n",
              "      <th id=\"T_d9702_level0_row4\" class=\"row_heading level0 row4\" >50%</th>\n",
              "      <td id=\"T_d9702_row4_col0\" class=\"data row4 col0\" >13.050000</td>\n",
              "      <td id=\"T_d9702_row4_col1\" class=\"data row4 col1\" >1.865000</td>\n",
              "      <td id=\"T_d9702_row4_col2\" class=\"data row4 col2\" >2.360000</td>\n",
              "      <td id=\"T_d9702_row4_col3\" class=\"data row4 col3\" >19.500000</td>\n",
              "      <td id=\"T_d9702_row4_col4\" class=\"data row4 col4\" >98.000000</td>\n",
              "      <td id=\"T_d9702_row4_col5\" class=\"data row4 col5\" >2.355000</td>\n",
              "      <td id=\"T_d9702_row4_col6\" class=\"data row4 col6\" >2.135000</td>\n",
              "      <td id=\"T_d9702_row4_col7\" class=\"data row4 col7\" >0.340000</td>\n",
              "      <td id=\"T_d9702_row4_col8\" class=\"data row4 col8\" >1.555000</td>\n",
              "      <td id=\"T_d9702_row4_col9\" class=\"data row4 col9\" >4.690000</td>\n",
              "      <td id=\"T_d9702_row4_col10\" class=\"data row4 col10\" >0.965000</td>\n",
              "      <td id=\"T_d9702_row4_col11\" class=\"data row4 col11\" >2.780000</td>\n",
              "      <td id=\"T_d9702_row4_col12\" class=\"data row4 col12\" >673.500000</td>\n",
              "      <td id=\"T_d9702_row4_col13\" class=\"data row4 col13\" >1.000000</td>\n",
              "    </tr>\n",
              "    <tr>\n",
              "      <th id=\"T_d9702_level0_row5\" class=\"row_heading level0 row5\" >75%</th>\n",
              "      <td id=\"T_d9702_row5_col0\" class=\"data row5 col0\" >13.677500</td>\n",
              "      <td id=\"T_d9702_row5_col1\" class=\"data row5 col1\" >3.082500</td>\n",
              "      <td id=\"T_d9702_row5_col2\" class=\"data row5 col2\" >2.557500</td>\n",
              "      <td id=\"T_d9702_row5_col3\" class=\"data row5 col3\" >21.500000</td>\n",
              "      <td id=\"T_d9702_row5_col4\" class=\"data row5 col4\" >107.000000</td>\n",
              "      <td id=\"T_d9702_row5_col5\" class=\"data row5 col5\" >2.800000</td>\n",
              "      <td id=\"T_d9702_row5_col6\" class=\"data row5 col6\" >2.875000</td>\n",
              "      <td id=\"T_d9702_row5_col7\" class=\"data row5 col7\" >0.437500</td>\n",
              "      <td id=\"T_d9702_row5_col8\" class=\"data row5 col8\" >1.950000</td>\n",
              "      <td id=\"T_d9702_row5_col9\" class=\"data row5 col9\" >6.200000</td>\n",
              "      <td id=\"T_d9702_row5_col10\" class=\"data row5 col10\" >1.120000</td>\n",
              "      <td id=\"T_d9702_row5_col11\" class=\"data row5 col11\" >3.170000</td>\n",
              "      <td id=\"T_d9702_row5_col12\" class=\"data row5 col12\" >985.000000</td>\n",
              "      <td id=\"T_d9702_row5_col13\" class=\"data row5 col13\" >2.000000</td>\n",
              "    </tr>\n",
              "    <tr>\n",
              "      <th id=\"T_d9702_level0_row6\" class=\"row_heading level0 row6\" >max</th>\n",
              "      <td id=\"T_d9702_row6_col0\" class=\"data row6 col0\" >14.830000</td>\n",
              "      <td id=\"T_d9702_row6_col1\" class=\"data row6 col1\" >5.800000</td>\n",
              "      <td id=\"T_d9702_row6_col2\" class=\"data row6 col2\" >3.230000</td>\n",
              "      <td id=\"T_d9702_row6_col3\" class=\"data row6 col3\" >30.000000</td>\n",
              "      <td id=\"T_d9702_row6_col4\" class=\"data row6 col4\" >162.000000</td>\n",
              "      <td id=\"T_d9702_row6_col5\" class=\"data row6 col5\" >3.880000</td>\n",
              "      <td id=\"T_d9702_row6_col6\" class=\"data row6 col6\" >5.080000</td>\n",
              "      <td id=\"T_d9702_row6_col7\" class=\"data row6 col7\" >0.660000</td>\n",
              "      <td id=\"T_d9702_row6_col8\" class=\"data row6 col8\" >3.580000</td>\n",
              "      <td id=\"T_d9702_row6_col9\" class=\"data row6 col9\" >13.000000</td>\n",
              "      <td id=\"T_d9702_row6_col10\" class=\"data row6 col10\" >1.710000</td>\n",
              "      <td id=\"T_d9702_row6_col11\" class=\"data row6 col11\" >4.000000</td>\n",
              "      <td id=\"T_d9702_row6_col12\" class=\"data row6 col12\" >1680.000000</td>\n",
              "      <td id=\"T_d9702_row6_col13\" class=\"data row6 col13\" >2.000000</td>\n",
              "    </tr>\n",
              "  </tbody>\n",
              "</table>\n"
            ]
          },
          "metadata": {},
          "execution_count": 66
        }
      ]
    },
    {
      "cell_type": "markdown",
      "source": [
        "The data has different scales, which may affect the training of the model if it is not normalized. This will be done in a later stage"
      ],
      "metadata": {
        "id": "4QVRN30bhDJM"
      }
    },
    {
      "cell_type": "code",
      "source": [
        "X = df.drop(\"target\",axis=1).values\n",
        "y = df[\"target\"].values\n",
        "print(X.shape,y.shape)"
      ],
      "metadata": {
        "colab": {
          "base_uri": "https://localhost:8080/"
        },
        "id": "Vhqk5PEUhAXw",
        "outputId": "f3791af7-606e-4c90-bf20-b164c31829ef"
      },
      "execution_count": 67,
      "outputs": [
        {
          "output_type": "stream",
          "name": "stdout",
          "text": [
            "(178, 13) (178,)\n"
          ]
        }
      ]
    },
    {
      "cell_type": "code",
      "source": [
        "y = y.reshape(-1,1)"
      ],
      "metadata": {
        "id": "aQsOC1gHjErx"
      },
      "execution_count": 68,
      "outputs": []
    },
    {
      "cell_type": "code",
      "source": [
        "# Split dataset into training set and test set\n",
        "from sklearn.model_selection import train_test_split\n",
        "X_train,X_test,y_train,y_test=train_test_split(X,y,test_size=0.2,random_state=109)"
      ],
      "metadata": {
        "id": "QBbIvjFdiNcb"
      },
      "execution_count": 69,
      "outputs": []
    },
    {
      "cell_type": "code",
      "source": [
        "y_train = y_train.reshape(-1,)"
      ],
      "metadata": {
        "id": "eWFFJ9cwl7aa"
      },
      "execution_count": 73,
      "outputs": []
    },
    {
      "cell_type": "markdown",
      "source": [
        "#fitting the model"
      ],
      "metadata": {
        "id": "DwXo0M4DjNcZ"
      }
    },
    {
      "cell_type": "code",
      "source": [
        "from sklearn.naive_bayes import GaussianNB\n",
        "gnb = GaussianNB()\n",
        "gnb.fit(X_train, y_train)"
      ],
      "metadata": {
        "colab": {
          "base_uri": "https://localhost:8080/",
          "height": 74
        },
        "id": "ptpIaCp3jD0U",
        "outputId": "b568ab83-c61b-4773-b216-0706535c8ac5"
      },
      "execution_count": 74,
      "outputs": [
        {
          "output_type": "execute_result",
          "data": {
            "text/plain": [
              "GaussianNB()"
            ],
            "text/html": [
              "<style>#sk-container-id-5 {color: black;background-color: white;}#sk-container-id-5 pre{padding: 0;}#sk-container-id-5 div.sk-toggleable {background-color: white;}#sk-container-id-5 label.sk-toggleable__label {cursor: pointer;display: block;width: 100%;margin-bottom: 0;padding: 0.3em;box-sizing: border-box;text-align: center;}#sk-container-id-5 label.sk-toggleable__label-arrow:before {content: \"▸\";float: left;margin-right: 0.25em;color: #696969;}#sk-container-id-5 label.sk-toggleable__label-arrow:hover:before {color: black;}#sk-container-id-5 div.sk-estimator:hover label.sk-toggleable__label-arrow:before {color: black;}#sk-container-id-5 div.sk-toggleable__content {max-height: 0;max-width: 0;overflow: hidden;text-align: left;background-color: #f0f8ff;}#sk-container-id-5 div.sk-toggleable__content pre {margin: 0.2em;color: black;border-radius: 0.25em;background-color: #f0f8ff;}#sk-container-id-5 input.sk-toggleable__control:checked~div.sk-toggleable__content {max-height: 200px;max-width: 100%;overflow: auto;}#sk-container-id-5 input.sk-toggleable__control:checked~label.sk-toggleable__label-arrow:before {content: \"▾\";}#sk-container-id-5 div.sk-estimator input.sk-toggleable__control:checked~label.sk-toggleable__label {background-color: #d4ebff;}#sk-container-id-5 div.sk-label input.sk-toggleable__control:checked~label.sk-toggleable__label {background-color: #d4ebff;}#sk-container-id-5 input.sk-hidden--visually {border: 0;clip: rect(1px 1px 1px 1px);clip: rect(1px, 1px, 1px, 1px);height: 1px;margin: -1px;overflow: hidden;padding: 0;position: absolute;width: 1px;}#sk-container-id-5 div.sk-estimator {font-family: monospace;background-color: #f0f8ff;border: 1px dotted black;border-radius: 0.25em;box-sizing: border-box;margin-bottom: 0.5em;}#sk-container-id-5 div.sk-estimator:hover {background-color: #d4ebff;}#sk-container-id-5 div.sk-parallel-item::after {content: \"\";width: 100%;border-bottom: 1px solid gray;flex-grow: 1;}#sk-container-id-5 div.sk-label:hover label.sk-toggleable__label {background-color: #d4ebff;}#sk-container-id-5 div.sk-serial::before {content: \"\";position: absolute;border-left: 1px solid gray;box-sizing: border-box;top: 0;bottom: 0;left: 50%;z-index: 0;}#sk-container-id-5 div.sk-serial {display: flex;flex-direction: column;align-items: center;background-color: white;padding-right: 0.2em;padding-left: 0.2em;position: relative;}#sk-container-id-5 div.sk-item {position: relative;z-index: 1;}#sk-container-id-5 div.sk-parallel {display: flex;align-items: stretch;justify-content: center;background-color: white;position: relative;}#sk-container-id-5 div.sk-item::before, #sk-container-id-5 div.sk-parallel-item::before {content: \"\";position: absolute;border-left: 1px solid gray;box-sizing: border-box;top: 0;bottom: 0;left: 50%;z-index: -1;}#sk-container-id-5 div.sk-parallel-item {display: flex;flex-direction: column;z-index: 1;position: relative;background-color: white;}#sk-container-id-5 div.sk-parallel-item:first-child::after {align-self: flex-end;width: 50%;}#sk-container-id-5 div.sk-parallel-item:last-child::after {align-self: flex-start;width: 50%;}#sk-container-id-5 div.sk-parallel-item:only-child::after {width: 0;}#sk-container-id-5 div.sk-dashed-wrapped {border: 1px dashed gray;margin: 0 0.4em 0.5em 0.4em;box-sizing: border-box;padding-bottom: 0.4em;background-color: white;}#sk-container-id-5 div.sk-label label {font-family: monospace;font-weight: bold;display: inline-block;line-height: 1.2em;}#sk-container-id-5 div.sk-label-container {text-align: center;}#sk-container-id-5 div.sk-container {/* jupyter's `normalize.less` sets `[hidden] { display: none; }` but bootstrap.min.css set `[hidden] { display: none !important; }` so we also need the `!important` here to be able to override the default hidden behavior on the sphinx rendered scikit-learn.org. See: https://github.com/scikit-learn/scikit-learn/issues/21755 */display: inline-block !important;position: relative;}#sk-container-id-5 div.sk-text-repr-fallback {display: none;}</style><div id=\"sk-container-id-5\" class=\"sk-top-container\"><div class=\"sk-text-repr-fallback\"><pre>GaussianNB()</pre><b>In a Jupyter environment, please rerun this cell to show the HTML representation or trust the notebook. <br />On GitHub, the HTML representation is unable to render, please try loading this page with nbviewer.org.</b></div><div class=\"sk-container\" hidden><div class=\"sk-item\"><div class=\"sk-estimator sk-toggleable\"><input class=\"sk-toggleable__control sk-hidden--visually\" id=\"sk-estimator-id-5\" type=\"checkbox\" checked><label for=\"sk-estimator-id-5\" class=\"sk-toggleable__label sk-toggleable__label-arrow\">GaussianNB</label><div class=\"sk-toggleable__content\"><pre>GaussianNB()</pre></div></div></div></div></div>"
            ]
          },
          "metadata": {},
          "execution_count": 74
        }
      ]
    },
    {
      "cell_type": "markdown",
      "source": [
        "#Predicting the model"
      ],
      "metadata": {
        "id": "AqkcMMsQjSF_"
      }
    },
    {
      "cell_type": "code",
      "source": [
        "y_pred = gnb.predict(X_test)"
      ],
      "metadata": {
        "id": "UsyThq3njVGp"
      },
      "execution_count": 75,
      "outputs": []
    },
    {
      "cell_type": "markdown",
      "source": [
        "#Accuracy of the model"
      ],
      "metadata": {
        "id": "WXuKbqIKjas1"
      }
    },
    {
      "cell_type": "code",
      "source": [
        "from sklearn import metrics\n",
        "print(\"Accuracy:\",metrics.accuracy_score(y_test, y_pred))"
      ],
      "metadata": {
        "colab": {
          "base_uri": "https://localhost:8080/"
        },
        "id": "sRamzFT-jZ9J",
        "outputId": "0a8d14ff-af8a-4315-ec81-8ab31d7f20bc"
      },
      "execution_count": 76,
      "outputs": [
        {
          "output_type": "stream",
          "name": "stdout",
          "text": [
            "Accuracy: 0.9444444444444444\n"
          ]
        }
      ]
    }
  ]
}